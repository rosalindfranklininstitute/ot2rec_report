{
 "cells": [
  {
   "attachments": {},
   "cell_type": "markdown",
   "metadata": {},
   "source": [
    "### Transferring motion-corrected data to Warp for sub-tomogram extraction\n",
    "\n",
    "If Warp is used, please cite:\n",
    "\n",
    "1. Tegunov, D., Cramer, P. Real-time cryo-electron microscopy data preprocessing with Warp. Nat Methods 16, 1146–1152 (2019). https://doi.org/10.1038/s41592-019-0580-y\n",
    "\n",
    "For more information, please see http://www.warpem.com/warp/?page_id=378.\n",
    "\n",
    "Motion-corrected images from Ot2Rec can be imported into Warp before CTF correction to join the sub-tomogram extraction pipeline. The motion-corrected images are a special case of \"movie frames\" where there is only one movie frame - the averaged motion-corrected frames. Please ensure that motion correction is disabled in Warp if you choose this route.\n",
    "\n",
    "The parameters that are required are as follows:\n",
    "\n",
    "#### Input\n",
    "\n",
    "Note on unbinned tomogram dimensions:\n",
    "- x, y dimensions determined from x- and y-dimensions of the motion corrected images\n",
    "- z dimensions determined from -VolZ flag input into AreTomo\n",
    "\n",
    "If either AreTomo or MotionCor was not used, Ot2Rec might not be able to give a full recommendation of the unbinned tomogram dimensions. You can find these dimensions manually - they should be the full unbinned x-y dimension of the images that go into Warp (usually size of the raw images) and the z-dimension is the thickness of the tomogram, which should be the z-dimension of the reconstructed tomogram used for particle picking."
   ]
  },
  {
   "cell_type": "code",
   "execution_count": null,
   "metadata": {},
   "outputs": [],
   "source": [
    "if os.path.isfile(f\"{proj_name}_mc2.yaml\"):\n",
    "    with open(f\"{proj_name}_mc2.yaml\", \"r\") as f:\n",
    "        mc2_config = yaml.load(f, Loader=yaml.FullLoader)\n",
    "\n",
    "    # Print output directory\n",
    "    print(\n",
    "        f\"Output directory for motion-corrected images: {mc2_config['System']['output_path']}\"\n",
    "    )\n",
    "\n",
    "    # Get pixel size used in motioncor\n",
    "    print(f\"Output pixel size: {mc2_config['MC2']['desired_pixel_size']} Angstroms\")\n",
    "\n",
    "    # Get unbinned tomogram dimensions recommendations\n",
    "    # xy determined from size of motion corrected images\n",
    "    # z determined from VolZ flag of AreTomo\n",
    "    if os.path.isfile(f\"{proj_name}_mc2_mdout.yaml\"):\n",
    "        with open(f\"{proj_name}_mc2_mdout.yaml\", \"r\") as f:\n",
    "            mc2_mdout = yaml.load(f, Loader=yaml.FullLoader)\n",
    "        test_img = list(mc2_mdout[\"output\"].values())[0]\n",
    "        with mrcfile.open(test_img) as mrc:\n",
    "            nx = int(mrc.header.nx)\n",
    "            ny = int(mrc.header.ny)\n",
    "        print(f\"Unbinned tomogram dimensions x: {nx} px\")\n",
    "        print(f\"Unbinned tomogram dimensions y: {ny} px\")\n",
    "    else:\n",
    "        print(\"Motioncor2 mdout yaml file not found, cannot recommend xy dimensions.\")\n",
    "\n",
    "    if os.path.isfile(f\"{proj_name}_aretomo_mdout.yaml\"):\n",
    "        with open(f\"{proj_name}_aretomo_mdout.yaml\", \"r\") as f:\n",
    "            aretomo_mdout = yaml.load(f, Loader=yaml.FullLoader)\n",
    "        cmd = list(aretomo_mdout[\"aretomo_cmd\"].values())[0]\n",
    "        if \"-VolZ\" not in cmd:\n",
    "            print(\"Was AreTomo reconstruction done? VolZ not found in AreTomo cmd\")\n",
    "        else:\n",
    "            volz = cmd.split(\"-VolZ \")[1].split()[0]\n",
    "            print(f\"Unbinned tomogram dimensions z: {volz} px\")\n",
    "    else:\n",
    "        print(\"Aretomo mdout yaml file not found, cannot recommend z dimension\")\n",
    "\n",
    "else:\n",
    "    print(\"Motioncor2 yaml file not found - cannot retrieve information\")"
   ]
  },
  {
   "attachments": {},
   "cell_type": "markdown",
   "metadata": {},
   "source": [
    "#### Pre-processing"
   ]
  },
  {
   "cell_type": "code",
   "execution_count": null,
   "metadata": {},
   "outputs": [],
   "source": [
    "# Get motioncor2 gain processing details\n",
    "if os.path.isfile(f\"{proj_name}_mc2.yaml\"):\n",
    "    with open(f\"{proj_name}_mc2.yaml\", \"r\") as f:\n",
    "        mc2_config = yaml.load(f, Loader=yaml.FullLoader)\n",
    "    gain = mc2_config[\"MC2\"][\"gain_reference\"]\n",
    "\n",
    "print(f\"Gain correction performed with: {gain}\")"
   ]
  },
  {
   "attachments": {},
   "cell_type": "markdown",
   "metadata": {},
   "source": [
    "#### CTF"
   ]
  },
  {
   "cell_type": "code",
   "execution_count": null,
   "metadata": {},
   "outputs": [],
   "source": [
    "# Voltage\n",
    "\n",
    "# Spherical aberration"
   ]
  }
 ],
 "metadata": {
  "kernelspec": {
   "display_name": "Python 3",
   "language": "python",
   "name": "python3"
  },
  "language_info": {
   "name": "python",
   "version": "3.10.9"
  },
  "orig_nbformat": 4,
  "vscode": {
   "interpreter": {
    "hash": "eacf47cf902d1b365fb5c7a76ee04f5f1438e0083818783c5a17e459851b0cbc"
   }
  }
 },
 "nbformat": 4,
 "nbformat_minor": 2
}
