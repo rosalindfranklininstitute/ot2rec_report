{
 "cells": [
  {
   "cell_type": "markdown",
   "id": "8fc52552-81be-46f3-9552-d461277e6922",
   "metadata": {},
   "source": [
    "### Richardson-Lucy Deconvolution with RedLionFish\n",
    "\n",
    "For more information, please see https://github.com/rosalindfranklininstitute/RedLionfish\n",
    "\n",
    "#### Deconvolved thumbnails"
   ]
  },
  {
   "cell_type": "code",
   "execution_count": null,
   "id": "7ffce772",
   "metadata": {},
   "outputs": [],
   "source": [
    "def get_central_xy(img_filename):\n",
    "    if img_filename.endswith(\".mrc\"):\n",
    "        with mrcfile.open(img_filename) as mrc:\n",
    "            img_data = mrc.data\n",
    "    else:\n",
    "        raise IOError(f\"Please use an mrc instead of {os.path.splitext(img_filename)[-1]}\")\n",
    "\n",
    "    # Find central slices\n",
    "    z_central = int(img_data.shape[0]/2)\n",
    "\n",
    "    # xy, yz, xz image data\n",
    "    xy_data = img_data[z_central, :, :]\n",
    "\n",
    "    return xy_data\n",
    "\n",
    "\n",
    "def show_xy_compare(xy1, xy2, title=None, labels=None):\n",
    "    \"\"\" compare two xy-slices \"\"\"        \n",
    "    plt.figure(figsize=(10,5))\n",
    "    plt.suptitle(title)\n",
    "\n",
    "    for i, data in enumerate([xy1, xy2]):\n",
    "        plt.subplot(1,2,i+1)\n",
    "        plt.imshow(\n",
    "            data,\n",
    "            cmap=\"Greys_r\",\n",
    "            # vmin=np.percentile(data[data>0].flatten(), 15),\n",
    "            # vmax=np.percentile(data[data>0].flatten(), 85)\n",
    "        )\n",
    "        plt.title(labels[i])\n",
    "    \n",
    "    plt.tight_layout()\n",
    "\n",
    "\n",
    "def get_tomogram_filenames():\n",
    "    # Get RLF mdout\n",
    "    try:\n",
    "        rlf_mdout = f\"{os.getcwd()}/{proj_name}_rlf_deconv_mdout.yaml\"\n",
    "    except FileNotFoundError:\n",
    "        print(f\"{proj_name}_savurecon_mdout.yaml not found, cannot find tomogram filenames.\")\n",
    "\n",
    "    tomo_filenames = {}\n",
    "\n",
    "    with open(rlf_mdout, \"r\") as f:\n",
    "        output = yaml.load(f.read(), Loader=yaml.FullLoader)\n",
    "        tomo_filenames[\"raw\"] = output[\"raw_files\"]\n",
    "        tomo_filenames[\"deconvolved\"] = output[\"outputs\"]\n",
    "\n",
    "    return tomo_filenames\n",
    "\n",
    "tomogram_filenames = get_tomogram_filenames()\n",
    "\n",
    "for tomogram in list(tomogram_filenames[\"raw\"].keys()):\n",
    "    xy_raw = get_central_xy(tomogram_filenames[\"raw\"][tomogram])\n",
    "    xy_deconv = get_central_xy(tomogram_filenames[\"deconvolved\"][tomogram])\n",
    "    show_xy_compare(\n",
    "        xy_raw,\n",
    "        xy_deconv,\n",
    "        title=os.path.basename(tomogram_filenames[\"raw\"][tomogram]),\n",
    "        labels=[\"Original\", \"Deconvolved\"]\n",
    "    )"
   ]
  }
 ],
 "metadata": {
  "kernelspec": {
   "display_name": "Python 3.8.10 64-bit",
   "language": "python",
   "name": "python3"
  },
  "language_info": {
   "codemirror_mode": {
    "name": "ipython",
    "version": 3
   },
   "file_extension": ".py",
   "mimetype": "text/x-python",
   "name": "python",
   "nbconvert_exporter": "python",
   "pygments_lexer": "ipython3",
   "version": "3.8.10"
  },
  "vscode": {
   "interpreter": {
    "hash": "e7370f93d1d0cde622a1f8e1c04877d8463912d04d973331ad4851f04de6915a"
   }
  }
 },
 "nbformat": 4,
 "nbformat_minor": 5
}
