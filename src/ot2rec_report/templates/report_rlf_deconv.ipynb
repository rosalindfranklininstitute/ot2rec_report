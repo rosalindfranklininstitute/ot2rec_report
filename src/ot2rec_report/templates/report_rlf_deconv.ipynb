{
 "cells": [
  {
   "cell_type": "markdown",
   "id": "8fc52552-81be-46f3-9552-d461277e6922",
   "metadata": {
    "slideshow": {
     "slide_type": "slide"
    }
   },
   "source": [
    "### Richardson-Lucy Deconvolution with RedLionFish\n",
    "\n",
    "For more information, please see https://github.com/rosalindfranklininstitute/RedLionfish"
   ]
  }
 ],
 "metadata": {
  "kernelspec": {
   "display_name": "Python 3.8.10 64-bit",
   "language": "python",
   "name": "python3"
  },
  "language_info": {
   "codemirror_mode": {
    "name": "ipython",
    "version": 3
   },
   "file_extension": ".py",
   "mimetype": "text/x-python",
   "name": "python",
   "nbconvert_exporter": "python",
   "pygments_lexer": "ipython3",
   "version": "3.8.10"
  },
  "vscode": {
   "interpreter": {
    "hash": "e7370f93d1d0cde622a1f8e1c04877d8463912d04d973331ad4851f04de6915a"
   }
  }
 },
 "nbformat": 4,
 "nbformat_minor": 5
}
