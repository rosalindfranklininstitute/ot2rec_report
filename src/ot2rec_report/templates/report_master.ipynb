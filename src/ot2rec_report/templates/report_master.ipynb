{
 "cells": [
  {
   "cell_type": "markdown",
   "id": "8fc52552-81be-46f3-9552-d461277e6922",
   "metadata": {},
   "source": [
    "# Ot2Rec"
   ]
  },
  {
   "cell_type": "code",
   "execution_count": 2,
   "id": "95e6fc9d-ef43-4209-a76f-80d035fe8044",
   "metadata": {},
   "outputs": [],
   "source": [
    "import numpy as np\n",
    "import scipy as sp\n",
    "\n",
    "import yaml\n",
    "\n",
    "import matplotlib.pyplot as plt"
   ]
  },
  {
   "cell_type": "code",
   "execution_count": 3,
   "id": "4ca64821-cc56-4dc1-9deb-771e02f278e1",
   "metadata": {
    "tags": [
     "parameters"
    ]
   },
   "outputs": [],
   "source": [
    "# Parameters\n",
    "proj_name = \"\""
   ]
  },
  {
   "cell_type": "code",
   "execution_count": null,
   "id": "fcdac30a-fc45-4b07-ae15-c98739529fdb",
   "metadata": {},
   "outputs": [],
   "source": [
    "# Read master metadata from YAML file\n",
    "md_file = rootname + \"_master_md.yaml\"\n",
    "\n",
    "with open(md_file, \"r\") as f:\n",
    "    md = yaml.load(f, Loader=yaml.FullLoader)"
   ]
  }
 ],
 "metadata": {
  "kernelspec": {
   "display_name": "Python 3 (ipykernel)",
   "language": "python",
   "name": "python3"
  },
  "language_info": {
   "codemirror_mode": {
    "name": "ipython",
    "version": 3
   },
   "file_extension": ".py",
   "mimetype": "text/x-python",
   "name": "python",
   "nbconvert_exporter": "python",
   "pygments_lexer": "ipython3",
   "version": "3.8.13"
  }
 },
 "nbformat": 4,
 "nbformat_minor": 5
}
