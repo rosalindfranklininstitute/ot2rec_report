{
 "cells": [
  {
   "cell_type": "markdown",
   "id": "8fc52552-81be-46f3-9552-d461277e6922",
   "metadata": {},
   "source": [
    "# RepoTemp"
   ]
  },
  {
   "cell_type": "code",
   "execution_count": null,
   "id": "95e6fc9d-ef43-4209-a76f-80d035fe8044",
   "metadata": {},
   "outputs": [],
   "source": [
    "import numpy as np\n",
    "import scipy as sp\n",
    "\n",
    "import matplotlib.pyplot as plt"
   ]
  }
 ],
 "metadata": {
  "kernelspec": {
   "display_name": "Python 3 (ipykernel)",
   "language": "python",
   "name": "python3"
  },
  "language_info": {
   "codemirror_mode": {
    "name": "ipython",
    "version": 3
   },
   "file_extension": ".py",
   "mimetype": "text/x-python",
   "name": "python",
   "nbconvert_exporter": "python",
   "pygments_lexer": "ipython3",
   "version": "3.8.10"
  }
 },
 "nbformat": 4,
 "nbformat_minor": 5
}
