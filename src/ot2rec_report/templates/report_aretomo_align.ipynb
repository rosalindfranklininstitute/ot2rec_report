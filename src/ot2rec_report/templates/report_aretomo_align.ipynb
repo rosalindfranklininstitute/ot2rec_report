{
 "cells": [
  {
   "cell_type": "code",
   "execution_count": null,
   "metadata": {},
   "outputs": [],
   "source": [
    "from IPython.display import Markdown, display"
   ]
  },
  {
   "cell_type": "code",
   "execution_count": null,
   "metadata": {},
   "outputs": [],
   "source": [
    "def printmd(string):\n",
    "    display(Markdown(string))"
   ]
  },
  {
   "cell_type": "markdown",
   "metadata": {},
   "source": [
    "### AreTomo Alignment"
   ]
  },
  {
   "cell_type": "code",
   "execution_count": null,
   "metadata": {},
   "outputs": [],
   "source": [
    "import numpy as np\n",
    "import pandas as pd\n",
    "import seaborn as sns\n",
    "import matplotlib as mpl\n",
    "import matplotlib.pyplot as plt\n",
    "\n",
    "import yaml"
   ]
  },
  {
   "cell_type": "code",
   "execution_count": null,
   "metadata": {},
   "outputs": [],
   "source": [
    "aretomo_md_file = f\"{proj_name}_aretomo_mdout.yaml\"\n",
    "\n",
    "with open(aretomo_md_file, \"r\") as f:\n",
    "    md = yaml.load(f.read(), Loader=yaml.FullLoader)\n",
    "\n",
    "ts_list = md[\"process_list\"]\n",
    "stat_files = md[\"aretomo_align_stats\"]"
   ]
  },
  {
   "cell_type": "code",
   "execution_count": null,
   "metadata": {},
   "outputs": [],
   "source": [
    "def get_stats(file_in):\n",
    "    with open(file_in, \"r\") as f:\n",
    "        lines = f.readlines()\n",
    "        \n",
    "    header = lines[2].strip().split()[1:]\n",
    "    df = pd.read_csv(file_in, sep=\"\\s+\", comment=\"#\", names=header)\n",
    "    df[\"Abs_shift\"] = np.sqrt(df.TX**2 + df.TY**2)\n",
    "    \n",
    "    return np.mean(df.Abs_shift), np.std(df.Abs_shift)"
   ]
  },
  {
   "cell_type": "code",
   "execution_count": null,
   "metadata": {},
   "outputs": [],
   "source": [
    "mean_list = []\n",
    "std_list = []\n",
    "\n",
    "for idx, curr_file in enumerate(stat_files.values()):\n",
    "    mean, std = get_stats(curr_file)\n",
    "    mean_list.append(mean)\n",
    "    std_list.append(std)\n",
    "    \n",
    "at_df = pd.DataFrame(columns=[\"Tilt series\", \"Mean shift (px)\", \"Shift s.d. (px)\"])\n",
    "at_df[\"Tilt series\"] = ts_list\n",
    "at_df[\"Mean shift (px)\"] = mean_list\n",
    "at_df[\"Shift s.d. (px)\"] = std_list"
   ]
  },
  {
   "cell_type": "code",
   "execution_count": null,
   "metadata": {},
   "outputs": [],
   "source": [
    "at_df"
   ]
  },
  {
   "cell_type": "code",
   "execution_count": null,
   "metadata": {},
   "outputs": [],
   "source": [
    "plt.figure(figsize=(15,5))\n",
    "ax = sns.barplot(data=at_df,\n",
    "                 x=\"Tilt series\",\n",
    "                 y=\"Mean shift (px)\",\n",
    "                 color=\"cornflowerblue\"\n",
    "                )\n",
    "\n",
    "ax.errorbar(x=at_df.index-1,\n",
    "            y=at_df[\"Mean shift (px)\"],\n",
    "            yerr=at_df[\"Shift s.d. (px)\"], fmt=\"none\", c=\"k\")\n",
    "\n",
    "plt.gca().set_ylim(bottom=0)"
   ]
  }
 ],
 "metadata": {
  "kernelspec": {
   "display_name": "Python 3 (ipykernel)",
   "language": "python",
   "name": "python3"
  },
  "language_info": {
   "codemirror_mode": {
    "name": "ipython",
    "version": 3
   },
   "file_extension": ".py",
   "mimetype": "text/x-python",
   "name": "python",
   "nbconvert_exporter": "python",
   "pygments_lexer": "ipython3",
   "version": "3.8.13"
  }
 },
 "nbformat": 4,
 "nbformat_minor": 4
}
