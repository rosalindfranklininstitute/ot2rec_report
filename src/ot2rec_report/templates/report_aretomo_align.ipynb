{
 "cells": [
  {
   "cell_type": "markdown",
   "metadata": {
    "slideshow": {
     "slide_type": "slide"
    }
   },
   "source": [
    "### AreTomo Alignment"
   ]
  },
  {
   "cell_type": "code",
   "execution_count": null,
   "metadata": {
    "tags": [
     "hide",
     "raises_exception"
    ]
   },
   "outputs": [],
   "source": [
    "aretomo_md_file = f\"{proj_name}_aretomo_mdout.yaml\"\n",
    "\n",
    "with open(aretomo_md_file, \"r\") as f:\n",
    "    md = yaml.load(f.read(), Loader=yaml.FullLoader)\n",
    "\n",
    "ts_list = md[\"process_list\"]\n",
    "stat_files = md[\"aretomo_align_stats\"]"
   ]
  },
  {
   "cell_type": "code",
   "execution_count": null,
   "metadata": {
    "tags": [
     "hide"
    ]
   },
   "outputs": [],
   "source": [
    "def get_px_size():\n",
    "    \"\"\"Returns aligned images pixel size in nm\"\"\"\n",
    "\n",
    "    mc_yaml_file = f\"{proj_name}_mc2.yaml\"\n",
    "    if os.path.exists(mc_yaml_file) is False:\n",
    "        raise FileNotFoundError(\n",
    "            \"MotionCor2 yaml file not found, pixel size cannot be extracted\"\n",
    "        )\n",
    "    with open(mc_yaml_file, \"r\") as f:\n",
    "        params_mc = yaml.load(f.read(), Loader=yaml.FullLoader)\n",
    "\n",
    "    aretomo_yaml_file = f\"{proj_name}_aretomo_align.yaml\"\n",
    "    if os.path.exists(aretomo_yaml_file) is False:\n",
    "        if os.path.exists(f\"{proj_name}_aretomo_align-recon.yaml\") is True:\n",
    "            aretomo_yaml_file = f\"{proj_name}_aretomo_align-recon.yaml\"\n",
    "        else:\n",
    "            raise FileNotFoundError(\n",
    "                \"AreTomo align or align-recon yaml file not found, pixel size cannot be extracted\"\n",
    "            )\n",
    "    with open(aretomo_yaml_file, \"r\") as f:\n",
    "        params_at = yaml.load(f.read(), Loader=yaml.FullLoader)\n",
    "\n",
    "    px_size = (\n",
    "        params_mc[\"MC2\"][\"desired_pixel_size\"]\n",
    "        * params_at[\"AreTomo_setup\"][\"output_binning\"]\n",
    "        * 0.1\n",
    "    )\n",
    "    return float(px_size)\n",
    "\n",
    "\n",
    "def get_stats(file_in):\n",
    "    with open(file_in, \"r\") as f:\n",
    "        lines = f.readlines()\n",
    "\n",
    "    commented_lines = []\n",
    "    for l in lines:\n",
    "        if l.startswith(\"#\"):\n",
    "            commented_lines.append(l)\n",
    "    header = commented_lines[-1].split()[1:]\n",
    "\n",
    "    df = pd.read_csv(file_in, sep=\"\\s+\", comment=\"#\", names=header)\n",
    "    df[\"Abs_shift\"] = np.sqrt(df.TX**2 + df.TY**2)\n",
    "\n",
    "    return np.mean(df.Abs_shift), np.std(df.Abs_shift)"
   ]
  },
  {
   "cell_type": "code",
   "execution_count": null,
   "metadata": {
    "tags": [
     "hide",
     "raises_exception"
    ]
   },
   "outputs": [],
   "source": [
    "mean_list = []\n",
    "std_list = []\n",
    "\n",
    "for idx, curr_file in enumerate(stat_files.values()):\n",
    "    if os.path.isfile(curr_file) is False:\n",
    "        print(f\"AreTomo align: {curr_file} not found - skipping\")\n",
    "    else:\n",
    "        mean, std = get_stats(curr_file)\n",
    "        mean_list.append(mean)\n",
    "        std_list.append(std)\n",
    "\n",
    "if len(mean_list) > 0:\n",
    "    at_df = pd.DataFrame(columns=[\"Tilt series\", \"Mean shift (px)\", \"Shift s.d. (px)\"])\n",
    "    at_df[\"Tilt series\"] = ts_list\n",
    "    at_df[\"Mean shift (px)\"] = mean_list\n",
    "    at_df[\"Shift s.d. (px)\"] = std_list\n",
    "\n",
    "    px_size = get_px_size()\n",
    "    at_df[\"Mean shift (A)\"] = np.array(mean_list) * px_size\n",
    "    at_df[\"Shift s.d. (A)\"] = np.array(std_list) * px_size\n",
    "\n",
    "    at_df\n",
    "\n",
    "else:\n",
    "    print(\"AreTomo align stats file not found\")"
   ]
  },
  {
   "cell_type": "code",
   "execution_count": null,
   "metadata": {
    "slideshow": {
     "slide_type": "subslide"
    },
    "tags": [
     "hide",
     "raises_exception"
    ]
   },
   "outputs": [],
   "source": [
    "if len(mean_list) > 0:\n",
    "    plt.figure(figsize=(10, 5))\n",
    "    ax = sns.barplot(\n",
    "        data=at_df, x=\"Tilt series\", y=\"Mean shift (A)\", color=\"cornflowerblue\"\n",
    "    )\n",
    "\n",
    "    ax.errorbar(\n",
    "        x=at_df.index - 1,\n",
    "        y=at_df[\"Mean shift (A)\"],\n",
    "        yerr=at_df[\"Shift s.d. (A)\"],\n",
    "        fmt=\"none\",\n",
    "        c=\"k\",\n",
    "    )\n",
    "\n",
    "    plt.gca().set_ylim(bottom=0)"
   ]
  }
 ],
 "metadata": {
  "kernelspec": {
   "display_name": "Python 3.8.10 64-bit",
   "language": "python",
   "name": "python3"
  },
  "language_info": {
   "codemirror_mode": {
    "name": "ipython",
    "version": 3
   },
   "file_extension": ".py",
   "mimetype": "text/x-python",
   "name": "python",
   "nbconvert_exporter": "python",
   "pygments_lexer": "ipython3",
   "version": "3.8.10"
  },
  "vscode": {
   "interpreter": {
    "hash": "e7370f93d1d0cde622a1f8e1c04877d8463912d04d973331ad4851f04de6915a"
   }
  }
 },
 "nbformat": 4,
 "nbformat_minor": 4
}
