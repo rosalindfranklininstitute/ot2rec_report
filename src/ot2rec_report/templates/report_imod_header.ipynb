{
 "cells": [
  {
   "cell_type": "code",
   "execution_count": null,
   "id": "acaedf63-f3d2-4d15-983a-6d36d5e2220b",
   "metadata": {},
   "outputs": [],
   "source": [
    "from IPython.display import Markdown, display"
   ]
  },
  {
   "cell_type": "code",
   "execution_count": null,
   "id": "7719196b-a9be-4687-9e98-44ef29ce76e3",
   "metadata": {},
   "outputs": [],
   "source": [
    "def printmd(string):\n",
    "    display(Markdown(string))"
   ]
  },
  {
   "cell_type": "markdown",
   "id": "c7f3b12f-45eb-4711-a1f2-2b0b6e126eca",
   "metadata": {},
   "source": [
    "## IMOD (general)"
   ]
  },
  {
   "cell_type": "code",
   "execution_count": null,
   "id": "dfc550c2-37dd-401e-84b0-bfbd6f9f0705",
   "metadata": {},
   "outputs": [],
   "source": [
    "print(\"IMOD has been used in this image processing operation.\\n\")\n",
    "\n",
    "print(\"Please cite:\")\n",
    "printmd(\"1. James R. Kremer, David N. Mastronarde, J.Richard McIntosh. \"\n",
    "        \"Computer Visualization of Three-Dimensional Image Data Using IMOD, \"\n",
    "        \"*Journal of Structural Biology* **116(1)**:71-76 (1996)\\n\"\n",
    "        \"2. Mastronarde DN, Held SR. \"\n",
    "        \"Automated tilt series alignment and tomographic reconstruction in IMOD, \"\n",
    "        \"*Journal of Structural Biology* **197(2)**:102-113 (2017)\"\n",
    "        )"
   ]
  }
 ],
 "metadata": {
  "kernelspec": {
   "display_name": "Python 3.8.10 64-bit",
   "language": "python",
   "name": "python3"
  },
  "language_info": {
   "codemirror_mode": {
    "name": "ipython",
    "version": 3
   },
   "file_extension": ".py",
   "mimetype": "text/x-python",
   "name": "python",
   "nbconvert_exporter": "python",
   "pygments_lexer": "ipython3",
   "version": "3.8.10"
  },
  "vscode": {
   "interpreter": {
    "hash": "e7370f93d1d0cde622a1f8e1c04877d8463912d04d973331ad4851f04de6915a"
   }
  }
 },
 "nbformat": 4,
 "nbformat_minor": 5
}
