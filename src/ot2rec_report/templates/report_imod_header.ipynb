{
 "cells": [
  {
   "cell_type": "markdown",
   "id": "c7f3b12f-45eb-4711-a1f2-2b0b6e126eca",
   "metadata": {
    "slideshow": {
     "slide_type": "slide"
    }
   },
   "source": [
    "## IMOD (general)\n",
    "\n",
    "IMOD has been used in this image processing operation.\n",
    "\n",
    "Please cite:\n",
    "\n",
    "1. James R. Kremer, David N. Mastronarde, J.Richard McIntosh.\n",
    "Computer Visualization of Three-Dimensional Image Data Using IMOD,\n",
    "*Journal of Structural Biology* **116(1)**:71-76 (1996)\n",
    "\n",
    "2. Mastronarde DN, Held SR.\n",
    "Automated tilt series alignment and tomographic reconstruction in IMOD,\n",
    "*Journal of Structural Biology* **197(2)**:102-113 (2017)"
   ]
  }
 ],
 "metadata": {
  "kernelspec": {
   "display_name": "Python 3.8.10 64-bit",
   "language": "python",
   "name": "python3"
  },
  "language_info": {
   "codemirror_mode": {
    "name": "ipython",
    "version": 3
   },
   "file_extension": ".py",
   "mimetype": "text/x-python",
   "name": "python",
   "nbconvert_exporter": "python",
   "pygments_lexer": "ipython3",
   "version": "3.8.10"
  },
  "vscode": {
   "interpreter": {
    "hash": "e7370f93d1d0cde622a1f8e1c04877d8463912d04d973331ad4851f04de6915a"
   }
  }
 },
 "nbformat": 4,
 "nbformat_minor": 5
}
