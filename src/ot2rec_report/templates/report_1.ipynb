{
 "cells": [
  {
   "cell_type": "markdown",
   "id": "c7f3b12f-45eb-4711-a1f2-2b0b6e126eca",
   "metadata": {},
   "source": [
    "## Process 1"
   ]
  },
  {
   "cell_type": "code",
   "execution_count": null,
   "id": "dfc550c2-37dd-401e-84b0-bfbd6f9f0705",
   "metadata": {},
   "outputs": [],
   "source": [
    "print(\"You have run Process 1\")"
   ]
  },
  {
   "cell_type": "code",
   "execution_count": null,
   "id": "11817ad4-eee4-403d-b4e6-693e7c5339bb",
   "metadata": {},
   "outputs": [],
   "source": [
    "import numpy as np\n",
    "import matplotlib.pyplot as plt"
   ]
  },
  {
   "cell_type": "code",
   "execution_count": null,
   "id": "fefe4aed-55da-49dd-9e93-c9192fdb1ee9",
   "metadata": {},
   "outputs": [],
   "source": [
    "x = np.linspace(0, 10, 100)\n",
    "y = np.cos(x)"
   ]
  },
  {
   "cell_type": "code",
   "execution_count": null,
   "id": "27223def-f7e5-4f1f-a4da-af552e48ea2d",
   "metadata": {},
   "outputs": [],
   "source": [
    "print(\"Here is a graph of y = cos(x)\")"
   ]
  },
  {
   "cell_type": "code",
   "execution_count": null,
   "id": "e3041b4a-fddd-47eb-93b7-659164de1c93",
   "metadata": {},
   "outputs": [],
   "source": [
    "myplot = plt.plot(x, y)"
   ]
  }
 ],
 "metadata": {
  "kernelspec": {
   "display_name": "Python 3 (ipykernel)",
   "language": "python",
   "name": "python3"
  },
  "language_info": {
   "codemirror_mode": {
    "name": "ipython",
    "version": 3
   },
   "file_extension": ".py",
   "mimetype": "text/x-python",
   "name": "python",
   "nbconvert_exporter": "python",
   "pygments_lexer": "ipython3",
   "version": "3.8.13"
  }
 },
 "nbformat": 4,
 "nbformat_minor": 5
}
