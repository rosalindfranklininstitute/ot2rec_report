{
 "cells": [
  {
   "cell_type": "code",
   "execution_count": 1,
   "id": "acaedf63-f3d2-4d15-983a-6d36d5e2220b",
   "metadata": {},
   "outputs": [],
   "source": [
    "from IPython.display import Markdown, display"
   ]
  },
  {
   "cell_type": "code",
   "execution_count": 2,
   "id": "7719196b-a9be-4687-9e98-44ef29ce76e3",
   "metadata": {},
   "outputs": [],
   "source": [
    "def printmd(string):\n",
    "    display(Markdown(string))"
   ]
  },
  {
   "cell_type": "markdown",
   "id": "c7f3b12f-45eb-4711-a1f2-2b0b6e126eca",
   "metadata": {},
   "source": [
    "### Tilt-series Alignment (IMOD)"
   ]
  },
  {
   "cell_type": "code",
   "execution_count": 7,
   "id": "9dc0a246-4dea-4ea9-b044-63a22d1461f9",
   "metadata": {},
   "outputs": [],
   "source": [
    "import pandas as pd\n",
    "import seaborn as sns\n",
    "import matplotlib as mpl\n",
    "import matplotlib.pyplot as plt\n",
    "\n",
    "import yaml"
   ]
  },
  {
   "cell_type": "code",
   "execution_count": null,
   "id": "bc4ff842-5eef-456e-b7d3-23948e016dd5",
   "metadata": {},
   "outputs": [],
   "source": [
    "stats_yaml_file = f\"{proj_name}_imod_align_stats.yaml\"\n",
    "\n",
    "with open(stats_yaml_file, \"r\") as f:\n",
    "    stats = yaml.load(f.read(), Loader=yaml.FullLoader)\n",
    "    \n",
    "stats_df = pd.DataFrame.from_dict(stats).drop(columns=[\"index\"])\n",
    "stats_df[\"Tilt series\"] = stats_df[\"Tilt series\"].astype(int, copy=False)"
   ]
  },
  {
   "cell_type": "code",
   "execution_count": null,
   "id": "46811bff-05b3-41b1-be85-96010fc8e914",
   "metadata": {},
   "outputs": [],
   "source": [
    "print(stats_df)"
   ]
  },
  {
   "cell_type": "code",
   "execution_count": null,
   "id": "f7fa41eb-6f29-4460-ae65-53bbe839eff1",
   "metadata": {},
   "outputs": [],
   "source": [
    "plt.figure()\n",
    "ax = sns.barplot(data=stats_df,\n",
    "                 x=\"Tilt series\",\n",
    "                 y=\"Error weighted mean (nm)\",\n",
    "                 color=\"cornflowerblue\"\n",
    "                )\n",
    "\n",
    "ax.errorbar(x=stats_df.index,\n",
    "            y=stats_df[\"Error weighted mean (nm)\"],\n",
    "            yerr=stats_df[\"Error SD (nm)\"], fmt=\"none\", c=\"k\")\n",
    "\n",
    "plt.gca().set_ylim(bottom=0)"
   ]
  }
 ],
 "metadata": {
  "kernelspec": {
   "display_name": "Python 3 (ipykernel)",
   "language": "python",
   "name": "python3"
  },
  "language_info": {
   "codemirror_mode": {
    "name": "ipython",
    "version": 3
   },
   "file_extension": ".py",
   "mimetype": "text/x-python",
   "name": "python",
   "nbconvert_exporter": "python",
   "pygments_lexer": "ipython3",
   "version": "3.8.13"
  }
 },
 "nbformat": 4,
 "nbformat_minor": 5
}
