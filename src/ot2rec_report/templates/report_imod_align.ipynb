{
 "cells": [
  {
   "cell_type": "markdown",
   "id": "c7f3b12f-45eb-4711-a1f2-2b0b6e126eca",
   "metadata": {
    "slideshow": {
     "slide_type": "slide"
    }
   },
   "source": [
    "### Tilt-series Alignment (IMOD)\n",
    "\n",
    "#### Shifts between patches in A\n",
    "\n",
    "Taken from .xf file"
   ]
  },
  {
   "cell_type": "code",
   "execution_count": null,
   "id": "c6ca3aef",
   "metadata": {
    "slideshow": {
     "slide_type": "subslide"
    },
    "tags": [
     "raises-exception"
    ]
   },
   "outputs": [],
   "source": [
    "align_mdout_yaml_file = f\"{proj_name}_align_mdout.yaml\"\n",
    "\n",
    "if os.path.isfile(align_mdout_yaml_file) is True:\n",
    "    with open(align_mdout_yaml_file, \"r\") as f:\n",
    "        align_md = yaml.load(f.read(), Loader=yaml.FullLoader)\n",
    "\n",
    "    xf_files = {}\n",
    "    for ts in list(align_md[\"stack_output\"].keys()):\n",
    "        fn = align_md[\"stack_output\"][ts]\n",
    "        xf_files[ts] = fn.replace(\".st\", \".xf\")\n",
    "\n",
    "    eucs = {}\n",
    "    for ts in list(xf_files.keys()):\n",
    "        with open(xf_files[ts], \"r\") as f:\n",
    "            lines = f.readlines()\n",
    "            euc = [\n",
    "                (float(l.split()[4]) ** 2 + float(l.split()[5]) ** 2) ** 0.5\n",
    "                for l in lines\n",
    "            ]\n",
    "            eucs[ts] = {}\n",
    "            eucs[ts][\"Tilt series\"] = align_md[\"ts\"][ts]\n",
    "            eucs[ts][\"Mean shift (A)\"] = np.mean(euc)\n",
    "            eucs[ts][\"Shift s.d. (A)\"] = np.std(euc)\n",
    "\n",
    "    eucs_df = pd.DataFrame.from_dict(eucs, orient=\"index\")\n",
    "\n",
    "    eucs_df\n",
    "\n",
    "else:\n",
    "    print(f\"{align_mdout_yaml_file} file not found. Was IMOD align run?\")"
   ]
  },
  {
   "cell_type": "code",
   "execution_count": null,
   "id": "b0fcddd6",
   "metadata": {
    "slideshow": {
     "slide_type": "subslide"
    },
    "tags": [
     "raises-exception"
    ]
   },
   "outputs": [],
   "source": [
    "if os.path.isfile(align_mdout_yaml_file) is True:\n",
    "    plt.figure(figsize=(10, 5))\n",
    "    ax = sns.barplot(\n",
    "        data=eucs_df, x=\"Tilt series\", y=\"Mean shift (A)\", color=\"cornflowerblue\"\n",
    "    )\n",
    "\n",
    "    ax.errorbar(\n",
    "        x=eucs_df.index,\n",
    "        y=eucs_df[\"Mean shift (A)\"],\n",
    "        yerr=eucs_df[\"Shift s.d. (A)\"],\n",
    "        fmt=\"none\",\n",
    "        c=\"k\",\n",
    "    )\n",
    "\n",
    "    plt.gca().set_ylim(bottom=0)"
   ]
  },
  {
   "cell_type": "markdown",
   "id": "682d91fe",
   "metadata": {
    "slideshow": {
     "slide_type": "subslide"
    }
   },
   "source": [
    "#### Errors in alignment\n",
    "\n",
    "Taken from taLocals"
   ]
  },
  {
   "cell_type": "code",
   "execution_count": null,
   "id": "bc4ff842-5eef-456e-b7d3-23948e016dd5",
   "metadata": {
    "scrolled": true,
    "slideshow": {
     "slide_type": "subslide"
    },
    "tags": [
     "raises-exception",
     "hide"
    ]
   },
   "outputs": [],
   "source": [
    "stats_yaml_file = f\"{proj_name}_imod_align_stats.yaml\"\n",
    "\n",
    "if os.path.isfile(stats_yaml_file) is False:\n",
    "    print(f\"The IMOD stats file {stats_yaml_file} was not found\")\n",
    "\n",
    "else:\n",
    "    with open(stats_yaml_file, \"r\") as f:\n",
    "        stats = yaml.load(f.read(), Loader=yaml.FullLoader)\n",
    "\n",
    "    stats_df = pd.DataFrame.from_dict(stats).drop(columns=[\"index\"])\n",
    "    stats_df[\"Tilt series\"] = stats_df[\"Tilt series\"].astype(int, copy=False)\n",
    "    # pd.set_option(\"display.max_rows\", None)\n",
    "    display(stats_df)"
   ]
  },
  {
   "cell_type": "code",
   "execution_count": null,
   "id": "f7fa41eb-6f29-4460-ae65-53bbe839eff1",
   "metadata": {
    "slideshow": {
     "slide_type": "subslide"
    },
    "tags": [
     "raises-exception",
     "hide"
    ]
   },
   "outputs": [],
   "source": [
    "if os.path.isfile(stats_yaml_file) is True:\n",
    "    plt.figure(figsize=(10, 5))\n",
    "    ax = sns.barplot(\n",
    "        data=stats_df, x=\"Tilt series\", y=\"Error mean (nm)\", color=\"cornflowerblue\"\n",
    "    )\n",
    "\n",
    "    ax.errorbar(\n",
    "        x=stats_df.index,\n",
    "        y=stats_df[\"Error mean (nm)\"],\n",
    "        yerr=stats_df[\"Error SD (nm)\"],\n",
    "        fmt=\"none\",\n",
    "        c=\"k\",\n",
    "    )\n",
    "\n",
    "    plt.gca().set_ylim(bottom=0)"
   ]
  }
 ],
 "metadata": {
  "celltoolbar": "Tags",
  "kernelspec": {
   "display_name": "Python 3 (ipykernel)",
   "language": "python",
   "name": "python3"
  },
  "language_info": {
   "codemirror_mode": {
    "name": "ipython",
    "version": 3
   },
   "file_extension": ".py",
   "mimetype": "text/x-python",
   "name": "python",
   "nbconvert_exporter": "python",
   "pygments_lexer": "ipython3",
   "version": "3.8.10 (default, Jun 22 2022, 20:18:18) \n[GCC 9.4.0]"
  },
  "vscode": {
   "interpreter": {
    "hash": "e7370f93d1d0cde622a1f8e1c04877d8463912d04d973331ad4851f04de6915a"
   }
  }
 },
 "nbformat": 4,
 "nbformat_minor": 5
}
