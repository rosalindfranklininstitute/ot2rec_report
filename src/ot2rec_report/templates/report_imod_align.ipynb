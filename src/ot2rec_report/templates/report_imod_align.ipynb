{
 "cells": [
  {
   "cell_type": "markdown",
   "id": "c7f3b12f-45eb-4711-a1f2-2b0b6e126eca",
   "metadata": {
    "slideshow": {
     "slide_type": "slide"
    }
   },
   "source": [
    "### Tilt-series Alignment (IMOD)"
   ]
  },
  {
   "cell_type": "code",
   "execution_count": null,
   "id": "bc4ff842-5eef-456e-b7d3-23948e016dd5",
   "metadata": {
    "scrolled": true,
    "slideshow": {
     "slide_type": "subslide"
    },
    "tags": [
     "raises-exception",
     "hide"
    ]
   },
   "outputs": [],
   "source": [
    "stats_yaml_file = f\"{proj_name}_imod_align_stats.yaml\"\n",
    "\n",
    "with open(stats_yaml_file, \"r\") as f:\n",
    "    stats = yaml.load(f.read(), Loader=yaml.FullLoader)\n",
    "    \n",
    "stats_df = pd.DataFrame.from_dict(stats).drop(columns=[\"index\"])\n",
    "stats_df[\"Tilt series\"] = stats_df[\"Tilt series\"].astype(int, copy=False)\n",
    "# pd.set_option(\"display.max_rows\", None)\n",
    "display(stats_df)"
   ]
  },
  {
   "cell_type": "code",
   "execution_count": null,
   "id": "f7fa41eb-6f29-4460-ae65-53bbe839eff1",
   "metadata": {
    "slideshow": {
     "slide_type": "subslide"
    },
    "tags": [
     "raises-exception",
     "hide"
    ]
   },
   "outputs": [],
   "source": [
    "plt.figure(figsize=(10,5))\n",
    "ax = sns.barplot(data=stats_df,\n",
    "                 x=\"Tilt series\",\n",
    "                 y=\"Error mean (nm)\",\n",
    "                 color=\"cornflowerblue\"\n",
    "                )\n",
    "\n",
    "ax.errorbar(x=stats_df.index,\n",
    "            y=stats_df[\"Error mean (nm)\"],\n",
    "            yerr=stats_df[\"Error SD (nm)\"], fmt=\"none\", c=\"k\")\n",
    "\n",
    "plt.gca().set_ylim(bottom=0)"
   ]
  }
 ],
 "metadata": {
  "celltoolbar": "Tags",
  "kernelspec": {
   "display_name": "Python 3 (ipykernel)",
   "language": "python",
   "name": "python3"
  },
  "language_info": {
   "codemirror_mode": {
    "name": "ipython",
    "version": 3
   },
   "file_extension": ".py",
   "mimetype": "text/x-python",
   "name": "python",
   "nbconvert_exporter": "python",
   "pygments_lexer": "ipython3",
   "version": "3.8.13"
  },
  "vscode": {
   "interpreter": {
    "hash": "e7370f93d1d0cde622a1f8e1c04877d8463912d04d973331ad4851f04de6915a"
   }
  }
 },
 "nbformat": 4,
 "nbformat_minor": 5
}
