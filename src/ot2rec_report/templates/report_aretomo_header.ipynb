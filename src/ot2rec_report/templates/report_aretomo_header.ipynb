{
 "cells": [
  {
   "cell_type": "markdown",
   "id": "c215cf75-f26b-4980-9ca8-6fd75ed2eccf",
   "metadata": {},
   "source": [
    "### AreTomo\n",
    "\n",
    "AreTomo was used in this workflow. Please cite:\n",
    "\n",
    "1. Shawn Zheng, Georg Wolff, Garrett Greenan, et al. AreTomo: An integrated software package for automated marker-free, motion-corrected cryo-electron tomographic alignment and reconstruction,\n",
    "*JSB: X* **6(100068)** , ISSN 2590-1524, (2022)\n",
    "[DOI](https://doi.org/10.1016/j.yjsbx.2022.100068.) | [ScienceDirect](https://www.sciencedirect.com/science/article/pii/S2590152422000095)\n",
    "\n",
    "For more information, please see https://msg.ucsf.edu/software."
   ]
  }
 ],
 "metadata": {
  "kernelspec": {
   "display_name": "Python 3 (ipykernel)",
   "language": "python",
   "name": "python3"
  },
  "language_info": {
   "codemirror_mode": {
    "name": "ipython",
    "version": 3
   },
   "file_extension": ".py",
   "mimetype": "text/x-python",
   "name": "python",
   "nbconvert_exporter": "python",
   "pygments_lexer": "ipython3",
   "version": "3.8.13"
  }
 },
 "nbformat": 4,
 "nbformat_minor": 5
}
