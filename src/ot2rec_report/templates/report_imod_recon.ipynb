{
 "cells": [
  {
   "cell_type": "markdown",
   "id": "c7f3b12f-45eb-4711-a1f2-2b0b6e126eca",
   "metadata": {
    "slideshow": {
     "slide_type": "slide"
    }
   },
   "source": [
    "### Tomographic Reconstruction (IMOD)\n",
    "\n",
    "Reconstruction was performed with IMOD BatchRunTomo.\n",
    "\n",
    "Reconstruction algorithm: WBP\n",
    "\n",
    "For more information, please see https://bio3d.colorado.edu/imod/doc/directives.html"
   ]
  },
  {
   "cell_type": "code",
   "execution_count": null,
   "id": "f77a586f",
   "metadata": {
    "tags": [
     "raises-exception",
     "hide"
    ]
   },
   "outputs": [],
   "source": [
    "def get_tomogram_filenames():\n",
    "    # Get IMOD mdout\n",
    "    try:\n",
    "        imod_mdout = f\"{os.getcwd()}/{proj_name}_recon_mdout.yaml\"\n",
    "    except FileNotFoundError:\n",
    "        print(f\"{proj_name}_recon_mdout.yaml not found, cannot find tomogram filenames.\")\n",
    "\n",
    "\n",
    "    with open(imod_mdout, \"r\") as f:\n",
    "        output = yaml.load(f.read(), Loader=yaml.FullLoader)\n",
    "        tomogram_filenames = output[\"recon_output\"].values()\n",
    "\n",
    "    return tomogram_filenames\n",
    "\n",
    "tomogram_filenames = get_tomogram_filenames()"
   ]
  },
  {
   "cell_type": "code",
   "execution_count": null,
   "id": "6d1a9c1a",
   "metadata": {
    "tags": [
     "hide"
    ]
   },
   "outputs": [],
   "source": [
    "def get_central_slices(img_data):\n",
    "    # Find central slices\n",
    "    z_central = int(img_data.shape[0]/2)\n",
    "    y_central = int(img_data.shape[1]/2)\n",
    "    x_central = int(img_data.shape[2]/2)\n",
    "\n",
    "    # xy, yz, xz image data\n",
    "    xy_data = img_data[z_central, :, :]\n",
    "    yz_data = img_data[:, y_central, :]\n",
    "    xz_data = img_data[:, :, x_central]\n",
    "\n",
    "    return [xy_data, yz_data, xz_data]\n",
    "\n",
    "\n",
    "def show_tomogram(tomo_fname):\n",
    "    \"\"\" tomo_fname can be 3-D .mrc, 3-D .tiff, or stack of 2-D tiffs \"\"\"\n",
    "\n",
    "    # Import image data\n",
    "    if tomo_fname.endswith(\".mrc\"):\n",
    "        with mrcfile.open(tomo_fname) as mrc:\n",
    "            img_data = mrc.data\n",
    "    \n",
    "    elif os.path.isdir(tomo_fname):\n",
    "        volume = []\n",
    "        for xy_slice in os.listdir(tomo_fname):\n",
    "            volume.append(tifffile.imread(f\"{tomo_fname}/{xy_slice}\").data)\n",
    "        img_data = np.stack(volume)\n",
    "    \n",
    "    elif tomo_fname.endswith(\".tif\"):\n",
    "        img_data = tifffile.imread(tomo_fname)\n",
    "    \n",
    "    else:\n",
    "        raise ValueError(\"Tomogram cannot be read. Please use a 3D tiff, mrc or stack of 2D Tiffs\")\n",
    "        \n",
    "    xy_data, yz_data, xz_data = get_central_slices(img_data)\n",
    "    # Show central slices in xy, yz, xz\n",
    "    plt.figure(figsize=(10,3.5))\n",
    "    plt.suptitle(os.path.basename(tomo_fname))\n",
    "    titles = [\"x-y\", \"y-z\", \"x-z\"]\n",
    "\n",
    "    for i, data in enumerate([xy_data, yz_data, xz_data]):\n",
    "        plt.subplot(1,3,i+1)\n",
    "        plt.imshow(\n",
    "            data,\n",
    "            cmap=\"Greys_r\",\n",
    "            vmin=np.percentile(data.flatten(), 10),\n",
    "            vmax=np.percentile(data.flatten(), 90)\n",
    "        )\n",
    "        plt.title(titles[i])\n",
    "    \n",
    "    plt.tight_layout()"
   ]
  },
  {
   "cell_type": "code",
   "execution_count": null,
   "id": "521d9b57",
   "metadata": {
    "slideshow": {
     "slide_type": "subslide"
    },
    "tags": [
     "hide",
     "raises_exception"
    ]
   },
   "outputs": [],
   "source": [
    "# Show thumbnails of the tomograms\n",
    "\n",
    "for tomogram in tomogram_filenames:\n",
    "    show_tomogram(tomogram)"
   ]
  }
 ],
 "metadata": {
  "kernelspec": {
   "display_name": "Python 3.8.13",
   "language": "python",
   "name": "python3"
  },
  "language_info": {
   "codemirror_mode": {
    "name": "ipython",
    "version": 3
   },
   "file_extension": ".py",
   "mimetype": "text/x-python",
   "name": "python",
   "nbconvert_exporter": "python",
   "pygments_lexer": "ipython3",
   "version": "3.8.13"
  },
  "vscode": {
   "interpreter": {
    "hash": "a924c2a426d7d6d6ce3d626a5e3a7a2287a067c2124b0bdfb6641928f2c3ed0d"
   }
  }
 },
 "nbformat": 4,
 "nbformat_minor": 5
}
