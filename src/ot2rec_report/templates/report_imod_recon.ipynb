{
 "cells": [
  {
   "cell_type": "code",
   "execution_count": null,
   "id": "f77a586f",
   "metadata": {
    "tags": [
     "raises-exception",
     "hide"
    ]
   },
   "outputs": [],
   "source": [
    "def get_tomogram_filenames():\n",
    "    # Get IMOD mdout\n",
    "    try:\n",
    "        imod_mdout = f\"{os.getcwd()}/{proj_name}_recon_mdout.yaml\"\n",
    "    except FileNotFoundError:\n",
    "        print(\n",
    "            f\"{proj_name}_recon_mdout.yaml not found, cannot find tomogram filenames.\"\n",
    "        )\n",
    "\n",
    "    with open(imod_mdout, \"r\") as f:\n",
    "        output = yaml.load(f.read(), Loader=yaml.FullLoader)\n",
    "        tomogram_filenames = output[\"recon_output\"].values()\n",
    "        algor = output[\"recon_algor\"] if \"recon_algor\" in output.keys() else \"WBP\"\n",
    "\n",
    "    return tomogram_filenames, algor\n",
    "\n",
    "\n",
    "tomogram_filenames, algor = get_tomogram_filenames()"
   ]
  },
  {
   "cell_type": "markdown",
   "id": "5f17516c-b77c-4b95-a903-cc50fc4baf50",
   "metadata": {},
   "source": [
    "### Tomographic Reconstruction (IMOD)\n",
    "Reconstruction was performed with IMOD BatchRunTomo."
   ]
  },
  {
   "cell_type": "code",
   "execution_count": null,
   "id": "44d2077d-956d-47d2-9c0c-873c581e987b",
   "metadata": {
    "slideshow": {
     "slide_type": "slide"
    }
   },
   "outputs": [],
   "source": [
    "from IPython.display import Markdown as md\n",
    "\n",
    "printmd(f\" Reconstruction algorithm: {algor}\")"
   ]
  },
  {
   "cell_type": "markdown",
   "id": "555e9de1-3ed2-4b18-a065-f465419b7148",
   "metadata": {},
   "source": [
    "For more information, please see [https://bio3d.colorado.edu/imod/doc/directives.html](https://bio3d.colorado.edu/imod/doc/directives.html)"
   ]
  },
  {
   "cell_type": "code",
   "execution_count": null,
   "id": "6d1a9c1a",
   "metadata": {
    "tags": [
     "hide"
    ]
   },
   "outputs": [],
   "source": [
    "def get_central_slices(img_data):\n",
    "    # Find central slices\n",
    "    z_central = img_data.shape[0] // 2\n",
    "    x_central = img_data.shape[1] // 2\n",
    "    y_central = img_data.shape[2] // 2\n",
    "\n",
    "    # Calculate number of slices to add\n",
    "    zxy_add = (np.array(img_data.shape) * 0.0025).astype(int)\n",
    "    zxy_add[zxy_add < 1] = 1\n",
    "\n",
    "    # xy, yz, xz image data\n",
    "    xy_data = img_data[z_central - zxy_add[0] : z_central + zxy_add[0], :, :].sum(\n",
    "        axis=0\n",
    "    )\n",
    "    yz_data = img_data[:, x_central - zxy_add[1] : x_central + zxy_add[1], :].sum(\n",
    "        axis=1\n",
    "    )\n",
    "    xz_data = img_data[:, :, y_central - zxy_add[2] : y_central + zxy_add[2]].sum(\n",
    "        axis=2\n",
    "    )\n",
    "\n",
    "    return [xy_data, yz_data, xz_data]\n",
    "\n",
    "\n",
    "def show_tomogram(tomo_fname):\n",
    "    \"\"\"tomo_fname can be 3-D .mrc, 3-D .tiff, or stack of 2-D tiffs\"\"\"\n",
    "\n",
    "    # Import image data\n",
    "    if tomo_fname.endswith(\".mrc\"):\n",
    "        with mrcfile.open(tomo_fname) as mrc:\n",
    "            img_data = mrc.data\n",
    "\n",
    "    elif os.path.isdir(tomo_fname):\n",
    "        volume = []\n",
    "        for xy_slice in os.listdir(tomo_fname):\n",
    "            volume.append(tifffile.imread(f\"{tomo_fname}/{xy_slice}\").data)\n",
    "        img_data = np.stack(volume)\n",
    "\n",
    "    elif tomo_fname.endswith(\".tif\"):\n",
    "        img_data = tifffile.imread(tomo_fname)\n",
    "\n",
    "    else:\n",
    "        raise ValueError(\n",
    "            \"Tomogram cannot be read. Please use a 3D tiff, mrc or stack of 2D Tiffs\"\n",
    "        )\n",
    "\n",
    "    xy_data, yz_data, xz_data = get_central_slices(img_data)\n",
    "    data_flattened = np.hstack(\n",
    "        (xy_data.flatten(), yz_data.flatten(), xz_data.flatten())\n",
    "    )\n",
    "\n",
    "    # Show central slices in xy, yz, xz\n",
    "    plt.figure(figsize=(10, 3.5))\n",
    "    plt.suptitle(os.path.basename(tomo_fname))\n",
    "    titles = [\"x-y\", \"y-z\", \"x-z\"]\n",
    "\n",
    "    for i, data in enumerate([xy_data, yz_data, xz_data]):\n",
    "        plt.subplot(1, 3, i + 1)\n",
    "        plt.imshow(\n",
    "            data,\n",
    "            cmap=\"Greys_r\",\n",
    "            vmin=np.percentile(data_flattened, 10),\n",
    "            vmax=np.percentile(data_flattened, 90),\n",
    "        )\n",
    "        plt.title(titles[i])\n",
    "\n",
    "    plt.tight_layout()"
   ]
  },
  {
   "cell_type": "code",
   "execution_count": null,
   "id": "521d9b57",
   "metadata": {
    "slideshow": {
     "slide_type": "subslide"
    },
    "tags": [
     "hide",
     "raises_exception"
    ]
   },
   "outputs": [],
   "source": [
    "# Show thumbnails of the tomograms\n",
    "\n",
    "for tomogram in tomogram_filenames:\n",
    "    show_tomogram(tomogram)"
   ]
  }
 ],
 "metadata": {
  "kernelspec": {
   "display_name": "Python 3 (ipykernel)",
   "language": "python",
   "name": "python3"
  },
  "language_info": {
   "codemirror_mode": {
    "name": "ipython",
    "version": 3
   },
   "file_extension": ".py",
   "mimetype": "text/x-python",
   "name": "python",
   "nbconvert_exporter": "python",
   "pygments_lexer": "ipython3",
   "version": "3.8.13"
  },
  "vscode": {
   "interpreter": {
    "hash": "a924c2a426d7d6d6ce3d626a5e3a7a2287a067c2124b0bdfb6641928f2c3ed0d"
   }
  }
 },
 "nbformat": 4,
 "nbformat_minor": 5
}
