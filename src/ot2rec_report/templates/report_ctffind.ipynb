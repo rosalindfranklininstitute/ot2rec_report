{
 "cells": [
  {
   "cell_type": "markdown",
   "id": "c7f3b12f-45eb-4711-a1f2-2b0b6e126eca",
   "metadata": {
    "slideshow": {
     "slide_type": "slide"
    }
   },
   "source": [
    "## CTF (Defocus) estimation\n",
    "\n",
    "CTF estimation has been performed using CTFFind4.\n",
    "\n",
    "Please cite:\n",
    "\n",
    "1. Joseph A. Mindell, Nikolaus Grigorieff.\n",
    "Accurate determination of local defocus and specimen tilt in electron microscopy,\n",
    "*Journal of Structural Biology* **142(3)**:334-347 (2003)\n",
    "\n",
    "2. Alexis Rohou, Nikolaus Grigorieff.\n",
    "CTFFIND4: Fast and accurate defocus estimation from electron micrographs,\n",
    "*Journal of Structural Biology* **192(2)**:216-221 (2015)"
   ]
  },
  {
   "cell_type": "code",
   "execution_count": null,
   "id": "9b6a7b20",
   "metadata": {
    "tags": [
     "raises-exception",
     "hide"
    ]
   },
   "outputs": [],
   "source": [
    "def get_ctffind_output_dir():\n",
    "    \"\"\"Get the directory where CTFFind outputs are\"\"\"\n",
    "    ctffind_yaml = f\"{os.getcwd()}/{proj_name}_ctffind.yaml\"\n",
    "\n",
    "    try:\n",
    "        with open(ctffind_yaml, \"r\") as f:\n",
    "            output = yaml.load(f.read(), Loader=yaml.FullLoader)\n",
    "            ctffind_outdir = output[\"System\"][\"output_path\"]\n",
    "    except FileNotFoundError:\n",
    "        print(f\"{ctffind_yaml} not found, cannot find the CTFFind output directory\")\n",
    "\n",
    "    return ctffind_outdir\n",
    "\n",
    "\n",
    "ctffind_outdir = get_ctffind_output_dir()"
   ]
  },
  {
   "cell_type": "markdown",
   "id": "c61f8d25",
   "metadata": {
    "slideshow": {
     "slide_type": "subslide"
    }
   },
   "source": [
    "### Thon rings\n",
    "\n",
    "Shown at 0 degrees tilt and max tilt."
   ]
  },
  {
   "cell_type": "code",
   "execution_count": null,
   "id": "b054349f",
   "metadata": {
    "tags": [
     "raises-exception",
     "hide"
    ]
   },
   "outputs": [],
   "source": [
    "def get_thon_rings(ctffind_outdir):\n",
    "    \"\"\"Get list of filenames for 0 tilt and max tilt thon ring images\"\"\"\n",
    "    thon_rings_all = {}\n",
    "    thon_rings_vis = {}\n",
    "    for f in os.listdir(ctffind_outdir):\n",
    "        if f.endswith(\"ctffind.mrc\"):\n",
    "            ts = int(f.split(\"_\")[1])\n",
    "            if ts not in thon_rings_all.keys():\n",
    "                thon_rings_all[ts] = []\n",
    "            thon_rings_all[ts].append(f)\n",
    "    for ts in thon_rings_all.keys():\n",
    "        thon_rings = thon_rings_all[ts]\n",
    "        thon_rings_vis[ts] = {}\n",
    "        tas = {}\n",
    "        for tr in thon_rings:\n",
    "            ta = float(tr.split(\"_\")[2])\n",
    "            tas[ta] = tr\n",
    "        thon_rings_vis[ts][\"0.0deg\"] = thon_rings[0]\n",
    "        max_ta = max(tas.keys())\n",
    "        thon_rings_vis[ts][f\"{max_ta}deg\"] = thon_rings[int(max_ta)]\n",
    "    return thon_rings_vis\n",
    "\n",
    "\n",
    "thon_rings = get_thon_rings(ctffind_outdir)"
   ]
  },
  {
   "cell_type": "code",
   "execution_count": null,
   "id": "70dbf795",
   "metadata": {
    "slideshow": {
     "slide_type": "subslide"
    },
    "tags": [
     "hide",
     "raises_exception"
    ]
   },
   "outputs": [],
   "source": [
    "def show_thon_rings(thon_rings_dict, ts):\n",
    "    \"\"\"Generate plot of thon rings at 0 and max tilt\"\"\"\n",
    "    plt.figure(figsize=(5, 3))\n",
    "    for i, tr in enumerate(thon_rings_dict.keys()):\n",
    "        with mrcfile.open(f\"{ctffind_outdir}/{thon_rings_dict[tr]}\") as mrc:\n",
    "            img_data = mrc.data\n",
    "        plt.subplot(1, 2, i + 1)\n",
    "        plt.imshow(img_data[0], cmap=\"Greys\")\n",
    "        plt.title(tr)\n",
    "    plt.suptitle(ts)\n",
    "    plt.tight_layout()\n",
    "\n",
    "\n",
    "for ts in thon_rings.keys():\n",
    "    show_thon_rings(thon_rings[ts], ts)"
   ]
  },
  {
   "cell_type": "markdown",
   "id": "59f58d0a",
   "metadata": {
    "slideshow": {
     "slide_type": "subslide"
    }
   },
   "source": [
    "### CTF Resolution"
   ]
  },
  {
   "cell_type": "code",
   "execution_count": null,
   "id": "68ea69e8",
   "metadata": {
    "slideshow": {
     "slide_type": "subslide"
    },
    "tags": [
     "raises-exception",
     "hide"
    ]
   },
   "outputs": [],
   "source": [
    "def get_ctf_res(ctffind_outdir):\n",
    "    \"\"\"Get ctf resolution from ctffind.txt files\"\"\"\n",
    "    ctfres_all = {}\n",
    "    for f in os.listdir(ctffind_outdir):\n",
    "        if f.endswith(\"ctffind.txt\"):\n",
    "            ts = f.split(\"_\")[1]\n",
    "            if ts not in ctfres_all.keys():\n",
    "                ctfres_all[ts] = {}\n",
    "            with open(f\"{ctffind_outdir}/{f}\", \"r\") as textfile:\n",
    "                res = float(textfile.readlines()[-1].split()[-1])\n",
    "            ta = float(f.split(\"_\")[2])\n",
    "            ctfres_all[ts][ta] = res\n",
    "    return ctfres_all\n",
    "\n",
    "\n",
    "def plot_ctf_res(ctfres_all):\n",
    "    plt.figure(figsize=(7.5, 2.5 * math.ceil(len(list(ctfres_all.keys())) / 3)))\n",
    "    for i, ts in enumerate(list(ctfres_all.keys())):\n",
    "        plt.subplot(math.ceil(len(list(ctfres_all.keys())) / 3), 3, i + 1)\n",
    "        plt.plot(list(ctfres_all[ts].keys()), list(ctfres_all[ts].values()), \".\")\n",
    "        plt.xlabel(\"Tilt angle (deg)\")\n",
    "        plt.ylabel(\"Fit resolution (A)\")\n",
    "        plt.title(ts)\n",
    "    plt.tight_layout()\n",
    "\n",
    "\n",
    "ctfres_all = get_ctf_res(ctffind_outdir)\n",
    "plot_ctf_res(ctfres_all)"
   ]
  }
 ],
 "metadata": {
  "kernelspec": {
   "display_name": "Python 3.8.10 64-bit",
   "language": "python",
   "name": "python3"
  },
  "language_info": {
   "codemirror_mode": {
    "name": "ipython",
    "version": 3
   },
   "file_extension": ".py",
   "mimetype": "text/x-python",
   "name": "python",
   "nbconvert_exporter": "python",
   "pygments_lexer": "ipython3",
   "version": "3.8.10"
  },
  "vscode": {
   "interpreter": {
    "hash": "e7370f93d1d0cde622a1f8e1c04877d8463912d04d973331ad4851f04de6915a"
   }
  }
 },
 "nbformat": 4,
 "nbformat_minor": 5
}
