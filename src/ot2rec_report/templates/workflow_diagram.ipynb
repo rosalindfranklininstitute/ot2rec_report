{
 "cells": [
  {
   "cell_type": "markdown",
   "metadata": {
    "slideshow": {
     "slide_type": "fragment"
    }
   },
   "source": [
    "# Workflow diagram"
   ]
  },
  {
   "cell_type": "code",
   "execution_count": null,
   "metadata": {
    "tags": [
     "raises-exception",
     "hide"
    ]
   },
   "outputs": [],
   "source": [
    "import pkg_resources\n",
    "import json\n",
    "import os\n",
    "from glob import glob\n",
    "\n",
    "import matplotlib.pyplot as plt\n",
    "import networkx as nx\n",
    "import pydot\n",
    "import numpy as np\n",
    "from IPython.display import Image, display\n",
    "import math"
   ]
  },
  {
   "cell_type": "code",
   "execution_count": null,
   "metadata": {
    "tags": [
     "hide"
    ]
   },
   "outputs": [],
   "source": [
    "# PROCESSES = [\"motioncor2\", \"ctffind\", \"ctfsim\", \"imod_align\", \"imod_recon\", \"aretomo_recon\", \"savu_recon\", \"rlf_deconv\"]\n",
    "PROCESSES = [\"motioncor2\", \"ctffind\", \"ctfsim\", \"aretomo_align\", \"imod_align\", \"imod_recon\", \"aretomo_recon\", \"savu_recon\", \"rlf_deconv\", \"exclude_bad_tilts\"]\n"
   ]
  },
  {
   "cell_type": "code",
   "execution_count": null,
   "metadata": {
    "tags": [
     "hide"
    ]
   },
   "outputs": [],
   "source": [
    "def read_ipynb(filename):\n",
    "    fn = pkg_resources.resource_filename(\"RepoTemp.templates\", filename)\n",
    "\n",
    "    with open(fn, 'r') as f:\n",
    "        return json.load(f)\n",
    "\n",
    "def get_processes(plist):\n",
    "    node_list = []\n",
    "    for idx, curr_proc in enumerate(plist):\n",
    "        # Find relevant log files\n",
    "        file_lookfor = f\"{os.getcwd()}/o2r_{curr_proc}.log\"\n",
    "        file_found = len(glob(file_lookfor))==1\n",
    "\n",
    "        if file_found:\n",
    "            node_list.append(idx+1)\n",
    "    \n",
    "    return node_list\n",
    "\n",
    "def create_graph(plist: list):\n",
    "    proc_dict = {\n",
    "        1: \"Motion Corr.\",\n",
    "        2: \"CTF estimation\",\n",
    "        3: \"CTF simulation\",\n",
    "        4: \"TS alignment (AreTomo)\",\n",
    "        5: \"TS alignment (IMOD)\",\n",
    "        6: \"Reconstruction (IMOD)\",\n",
    "        7: \"Reconstruction (AreTomo)\",\n",
    "        8: \"Reconstruction (Savu)\",\n",
    "        9: \"Deconvolution (RedLionfish)\",\n",
    "        10: \"ExcludeBadTilts\"\n",
    "    }\n",
    "\n",
    "    o2r_flow = [\n",
    "        (1, 2), (2, 3), (3, 9), (6, 9), # CTFSim + RLF\n",
    "        (1, 4), (4, 7),                 # AreTomo align + recon\n",
    "        (1, 5), (5, 6),                 # IMOD align + recon\n",
    "        (5, 8),                         # IMOD align + Savu recon\n",
    "        (5, 7),                         # IMOD align + Aretomo recon\n",
    "        (4, 8),                         # Aretomo align + Savu recon\n",
    "        (1, 10), (10, 4), (10, 5)       # Exclude bad tilts\n",
    "    ]\n",
    "    \n",
    "    proc_names = [proc_dict[i] for i in plist]\n",
    "    \n",
    "    # graph stuff\n",
    "    g = pydot.Dot(graph_type=\"digraph\", rankdir=\"LR\")\n",
    "    for _, curr_node in enumerate(proc_names):\n",
    "        node = pydot.Node(curr_node)\n",
    "        node.set_shape(\"box3d\")\n",
    "        g.add_node(node)\n",
    "        \n",
    "    get_dict = lambda x: tuple([proc_dict[i] for i in x])\n",
    "    proc_flow = [get_dict(i) for i in o2r_flow if set(i).issubset(plist)]\n",
    "    for _, curr_edge in enumerate(proc_flow):\n",
    "        edge = pydot.Edge(*curr_edge)\n",
    "        g.add_edge(edge)\n",
    "        \n",
    "    g_plot = Image(g.create_png())\n",
    "    display(g_plot)"
   ]
  },
  {
   "cell_type": "code",
   "execution_count": null,
   "metadata": {
    "slideshow": {
     "slide_type": "fragment"
    },
    "tags": [
     "raises-exception",
     "hide"
    ]
   },
   "outputs": [],
   "source": [
    "nodes = get_processes(PROCESSES)\n",
    "create_graph(nodes)"
   ]
  }
 ],
 "metadata": {
  "celltoolbar": "Tags",
  "kernelspec": {
   "display_name": "Python 3.8.10 64-bit",
   "language": "python",
   "name": "python3"
  },
  "language_info": {
   "codemirror_mode": {
    "name": "ipython",
    "version": 3
   },
   "file_extension": ".py",
   "mimetype": "text/x-python",
   "name": "python",
   "nbconvert_exporter": "python",
   "pygments_lexer": "ipython3",
   "version": "3.8.10 (default, Jun 22 2022, 20:18:18) \n[GCC 9.4.0]"
  },
  "vscode": {
   "interpreter": {
    "hash": "e7370f93d1d0cde622a1f8e1c04877d8463912d04d973331ad4851f04de6915a"
   }
  }
 },
 "nbformat": 4,
 "nbformat_minor": 4
}
