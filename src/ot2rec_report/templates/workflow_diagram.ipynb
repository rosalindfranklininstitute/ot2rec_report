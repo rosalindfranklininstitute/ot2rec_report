{
 "cells": [
  {
   "cell_type": "code",
   "execution_count": 20,
   "metadata": {},
   "outputs": [],
   "source": [
    "import pydot\n",
    "from IPython.display import Image, display"
   ]
  },
  {
   "cell_type": "code",
   "execution_count": 23,
   "metadata": {
    "tags": [
     "hide",
     "raises-exception"
    ]
   },
   "outputs": [],
   "source": [
    "def create_graph(node_list):\n",
    "    flows = {\n",
    "        \"motioncor2\": [\"ctffind\", \"exclude_bad_tilts\", \"imod_align\", \"aretomo_align\"],\n",
    "        \"ctffind\": [\"ctfsim\"],\n",
    "        \"ctfsim\": [\"rlf_deconv\"],\n",
    "        \"exclude_bad_tilts\": [\"imod_align\", \"aretomo_align\"],\n",
    "        \"imod_align\": [\"imod_recon\", \"aretomo_recon\", \"savu_recon\"],\n",
    "        \"imod_recon\": [\"rlf_deconv\"],\n",
    "        \"aretomo_align\": [\"imod_recon\", \"aretomo_recon\", \"savu_recon\"],\n",
    "        \"aretomo_recon\": [\"rlf_deconv\"],\n",
    "        \"savu_recon\": [\"rlf_deconv\"],\n",
    "        \"rlf_deconv\": [],\n",
    "    }\n",
    "\n",
    "    nodes_to_ignore = set(node_list).difference(set(flows.keys()))\n",
    "    for node in nodes_to_ignore:\n",
    "        node_list.remove(node)\n",
    "\n",
    "    graph = pydot.Dot(graph_type=\"digraph\", rankdir=\"LR\")\n",
    "    for node in node_list:\n",
    "        pydot_node = pydot.Node(node)\n",
    "        pydot_node.set_shape(\"box3d\")\n",
    "        graph.add_node(pydot_node)\n",
    "\n",
    "        downstream_nodes = set(node_list).intersection(set(flows[node]))\n",
    "        for downstream_node in downstream_nodes:\n",
    "            graph.add_edge(pydot.Edge(node, downstream_node))\n",
    "\n",
    "    display(Image(graph.create_png()))\n",
    "\n",
    "\n",
    "create_graph(node_list)"
   ]
  }
 ],
 "metadata": {
  "kernelspec": {
   "display_name": "Python 3",
   "language": "python",
   "name": "python3"
  },
  "language_info": {
   "codemirror_mode": {
    "name": "ipython",
    "version": 3
   },
   "file_extension": ".py",
   "mimetype": "text/x-python",
   "name": "python",
   "nbconvert_exporter": "python",
   "pygments_lexer": "ipython3",
   "version": "3.10.9"
  },
  "orig_nbformat": 4
 },
 "nbformat": 4,
 "nbformat_minor": 2
}
