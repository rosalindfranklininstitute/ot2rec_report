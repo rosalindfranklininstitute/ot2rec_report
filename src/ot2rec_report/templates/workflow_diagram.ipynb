{
 "cells": [
  {
   "cell_type": "markdown",
   "metadata": {},
   "source": [
    "# Workflow diagram"
   ]
  },
  {
   "cell_type": "code",
   "execution_count": null,
   "metadata": {},
   "outputs": [],
   "source": [
    "import pkg_resources\n",
    "import json\n",
    "import os\n",
    "from glob import glob\n",
    "\n",
    "import matplotlib.pyplot as plt\n",
    "import networkx as nx\n",
    "import pydot\n",
    "import numpy as np\n",
    "from IPython.display import Image, display"
   ]
  },
  {
   "cell_type": "code",
   "execution_count": null,
   "metadata": {},
   "outputs": [],
   "source": [
    "PROCESSES = [\"motioncor2\", \"ctffind\", \"ctfsim\", \"imod_align\", \"imod_recon\", \"aretomo_recon\", \"savu_recon\", \"rlf_deconv\"]"
   ]
  },
  {
   "cell_type": "code",
   "execution_count": null,
   "metadata": {},
   "outputs": [],
   "source": [
    "def read_ipynb(filename):\n",
    "    fn = pkg_resources.resource_filename(\"RepoTemp.templates\", filename)\n",
    "\n",
    "    with open(fn, 'r') as f:\n",
    "        return json.load(f)"
   ]
  },
  {
   "cell_type": "code",
   "execution_count": null,
   "metadata": {},
   "outputs": [],
   "source": [
    "def get_processes(plist):\n",
    "    node_list = []\n",
    "    for idx, curr_proc in enumerate(plist):\n",
    "        # Find relevant log files\n",
    "        file_lookfor = f\"{os.getcwd()}/o2r_{curr_proc}.log\"\n",
    "        file_found = len(glob(file_lookfor))==1\n",
    "\n",
    "        if file_found:\n",
    "            node_list.append(idx+1)\n",
    "    \n",
    "    return node_list"
   ]
  },
  {
   "cell_type": "code",
   "execution_count": null,
   "metadata": {},
   "outputs": [],
   "source": [
    "def create_graph(plist: list):\n",
    "    proc_dict = {\n",
    "        1: \"Motion Corr.\",\n",
    "        2: \"CTF estimation\",\n",
    "        3: \"CTF simulation\",\n",
    "        4: \"TS alignment (IMOD)\",\n",
    "        5: \"Reconstruction (IMOD)\",\n",
    "        6: \"Reconstruction (Aretomo)\",\n",
    "        7: \"Reconstruction (Savu)\",\n",
    "        8: \"Deconvolution (RedLionfish)\"\n",
    "    }\n",
    "    \n",
    "    o2r_flow = [\n",
    "        (1, 2), (2, 3), (3, 8),\n",
    "        (1, 4), (4, 5), (5, 8),\n",
    "        (4, 6), (6, 8),\n",
    "        (4, 7), (7, 8),\n",
    "    ]\n",
    "    \n",
    "    proc_names = [proc_dict[i] for i in plist]\n",
    "    \n",
    "    # graph stuff\n",
    "    g = pydot.Dot(graph_type=\"digraph\", rankdir=\"LR\")\n",
    "    for _, curr_node in enumerate(proc_names):\n",
    "        node = pydot.Node(curr_node)\n",
    "        node.set_shape(\"box3d\")\n",
    "        g.add_node(node)\n",
    "        \n",
    "    get_dict = lambda x: tuple([proc_dict[i] for i in x])\n",
    "    proc_flow = [get_dict(i) for i in overall_flow if set(i).issubset(plist)]\n",
    "    for _, curr_edge in enumerate(proc_flow):\n",
    "        edge = pydot.Edge(*curr_edge)\n",
    "        g.add_edge(edge)\n",
    "        \n",
    "    g_plot = Image(g.create_png())\n",
    "    display(g_plot)"
   ]
  },
  {
   "cell_type": "code",
   "execution_count": null,
   "metadata": {},
   "outputs": [],
   "source": [
    "nodes = get_processes(PROCESSES)\n",
    "create_graph(nodes)"
   ]
  }
 ],
 "metadata": {
  "kernelspec": {
   "display_name": "Python 3 (ipykernel)",
   "language": "python",
   "name": "python3"
  },
  "language_info": {
   "codemirror_mode": {
    "name": "ipython",
    "version": 3
   },
   "file_extension": ".py",
   "mimetype": "text/x-python",
   "name": "python",
   "nbconvert_exporter": "python",
   "pygments_lexer": "ipython3",
   "version": "3.8.13"
  },
  "vscode": {
   "interpreter": {
    "hash": "6590e9c798eac5aa7da926cdd39397e8e1bdc0965cca08afb8e183dd452c2306"
   }
  }
 },
 "nbformat": 4,
 "nbformat_minor": 4
}
