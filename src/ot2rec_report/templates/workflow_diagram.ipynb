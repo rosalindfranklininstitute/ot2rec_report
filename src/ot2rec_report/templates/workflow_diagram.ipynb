{
 "cells": [
  {
   "cell_type": "markdown",
   "metadata": {},
   "source": [
    "# Workflow diagram"
   ]
  },
  {
   "cell_type": "code",
   "execution_count": null,
   "metadata": {},
   "outputs": [],
   "source": [
    "import pkg_resources\n",
    "import json\n",
    "import os\n",
    "from glob import glob\n",
    "\n",
    "import matplotlib.pyplot as plt\n",
    "import networkx as nx\n",
    "import numpy as np"
   ]
  },
  {
   "cell_type": "code",
   "execution_count": null,
   "metadata": {},
   "outputs": [],
   "source": [
    "PROCESSES = [\"1\", \"2\"]"
   ]
  },
  {
   "cell_type": "code",
   "execution_count": null,
   "metadata": {},
   "outputs": [],
   "source": [
    "def read_ipynb(filename):\n",
    "    fn = pkg_resources.resource_filename(\"RepoTemp.templates\", filename)\n",
    "\n",
    "    with open(fn, 'r') as f:\n",
    "        return json.load(f)"
   ]
  },
  {
   "cell_type": "code",
   "execution_count": null,
   "metadata": {},
   "outputs": [],
   "source": [
    "def get_processes(plist):\n",
    "    node_list = []\n",
    "    for curr_proc in plist:\n",
    "        # Find relevant log files\n",
    "        file_lookfor = f\"{os.getcwd()}/{curr_proc}.log\"\n",
    "        file_found = len(glob(file_lookfor))==1\n",
    "\n",
    "        try:\n",
    "            assert file_found\n",
    "        except:\n",
    "            print(f\"File {file_lookfor} not found. Process {curr_proc} not performed?\")\n",
    "\n",
    "        if file_found:\n",
    "            node_list.append(curr_proc)\n",
    "    \n",
    "    return node_list"
   ]
  },
  {
   "cell_type": "code",
   "execution_count": null,
   "metadata": {},
   "outputs": [],
   "source": [
    "def create_graph(nodes: list) -> nx.Graph:\n",
    "    graph = nx.Graph()\n",
    "    graph.pos = {}\n",
    "    for i, node in enumerate(nodes):\n",
    "        graph.pos[i] = (i,0)\n",
    "        if i+1 < len(nodes):\n",
    "            graph.add_edge(i, i+1)\n",
    "    plt.figure(figsize=[10,3])\n",
    "    plt.axis('off')\n",
    "    for i, node in enumerate(nodes):\n",
    "        plt.text(i, -0.025, node, ha='center')\n",
    "\n",
    "    return graph"
   ]
  },
  {
   "cell_type": "code",
   "execution_count": null,
   "metadata": {},
   "outputs": [],
   "source": [
    "nodes = get_processes(PROCESSES)\n",
    "workflow = create_graph(nodes)\n",
    "nx.draw_networkx(workflow, workflow.pos)\n",
    "\n",
    "print(nodes)"
   ]
  }
 ],
 "metadata": {
  "kernelspec": {
   "display_name": "Python 3 (ipykernel)",
   "language": "python",
   "name": "python3"
  },
  "language_info": {
   "codemirror_mode": {
    "name": "ipython",
    "version": 3
   },
   "file_extension": ".py",
   "mimetype": "text/x-python",
   "name": "python",
   "nbconvert_exporter": "python",
   "pygments_lexer": "ipython3",
   "version": "3.8.13"
  },
  "vscode": {
   "interpreter": {
    "hash": "6590e9c798eac5aa7da926cdd39397e8e1bdc0965cca08afb8e183dd452c2306"
   }
  }
 },
 "nbformat": 4,
 "nbformat_minor": 4
}
