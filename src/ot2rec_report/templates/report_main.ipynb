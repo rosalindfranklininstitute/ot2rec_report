{
 "cells": [
  {
   "cell_type": "markdown",
   "id": "8fc52552-81be-46f3-9552-d461277e6922",
   "metadata": {},
   "source": [
    "# Ot2Rec"
   ]
  },
  {
   "cell_type": "code",
   "execution_count": null,
   "id": "54566ba5",
   "metadata": {
    "tags": [
     "parameters"
    ]
   },
   "outputs": [],
   "source": [
    "proj_name = \"\""
   ]
  },
  {
   "cell_type": "code",
   "execution_count": null,
   "id": "c3a273d6",
   "metadata": {
    "tags": [
     "raises-exception"
    ]
   },
   "outputs": [],
   "source": [
    "# Imports for the entire report notebook\n",
    "import yaml\n",
    "import os\n",
    "import mrcfile\n",
    "import tifffile\n",
    "import numpy as np\n",
    "import scipy\n",
    "import matplotlib.pyplot as plt\n",
    "import seaborn as sns\n",
    "import pandas as pd\n",
    "from IPython.display import Markdown, display"
   ]
  },
  {
   "cell_type": "code",
   "execution_count": null,
   "id": "65ff6bf4",
   "metadata": {},
   "outputs": [],
   "source": [
    "def printmd(string):\n",
    "    display(Markdown(string))"
   ]
  },
  {
   "cell_type": "code",
   "execution_count": null,
   "id": "fcdac30a-fc45-4b07-ae15-c98739529fdb",
   "metadata": {
    "tags": [
     "raises-exception"
    ]
   },
   "outputs": [],
   "source": [
    "# Read master metadata from YAML file\n",
    "md_file = proj_name + \"_master_md.yaml\"\n",
    "\n",
    "with open(md_file, \"r\") as f:\n",
    "    md = yaml.load(f, Loader=yaml.FullLoader)"
   ]
  }
 ],
 "metadata": {
  "celltoolbar": "Tags",
  "kernelspec": {
   "display_name": "Python 3.8.10 64-bit",
   "language": "python",
   "name": "python3"
  },
  "language_info": {
   "codemirror_mode": {
    "name": "ipython",
    "version": 3
   },
   "file_extension": ".py",
   "mimetype": "text/x-python",
   "name": "python",
   "nbconvert_exporter": "python",
   "pygments_lexer": "ipython3",
   "version": "3.8.10"
  },
  "vscode": {
   "interpreter": {
    "hash": "e7370f93d1d0cde622a1f8e1c04877d8463912d04d973331ad4851f04de6915a"
   }
  }
 },
 "nbformat": 4,
 "nbformat_minor": 5
}
