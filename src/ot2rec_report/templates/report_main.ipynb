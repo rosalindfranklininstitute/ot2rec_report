{
 "cells": [
  {
   "attachments": {},
   "cell_type": "markdown",
   "id": "8fc52552-81be-46f3-9552-d461277e6922",
   "metadata": {
    "slideshow": {
     "slide_type": "slide"
    }
   },
   "source": [
    "# Ot2Rec"
   ]
  },
  {
   "cell_type": "code",
   "execution_count": null,
   "id": "c3a273d6",
   "metadata": {
    "tags": [
     "raises-exception",
     "hide"
    ]
   },
   "outputs": [],
   "source": [
    "# Imports for the entire report notebook\n",
    "import yaml\n",
    "import os\n",
    "import mrcfile\n",
    "import tifffile\n",
    "import numpy as np\n",
    "import scipy\n",
    "import matplotlib.pyplot as plt\n",
    "import seaborn as sns\n",
    "import pandas as pd\n",
    "from IPython.display import Markdown, display\n",
    "from datetime import datetime\n",
    "import ot2rec_report\n",
    "from importlib.metadata import version\n",
    "import pkg_resources\n",
    "\n",
    "plt.rcParams.update({\"figure.max_open_warning\": 0})"
   ]
  },
  {
   "cell_type": "code",
   "execution_count": null,
   "id": "2c52e829",
   "metadata": {
    "tags": [
     "parameters"
    ]
   },
   "outputs": [],
   "source": [
    "proj_name = \"\"\n",
    "node_list = []\n",
    "notes = \"\""
   ]
  },
  {
   "cell_type": "code",
   "execution_count": null,
   "id": "65ff6bf4",
   "metadata": {
    "tags": [
     "hide"
    ]
   },
   "outputs": [],
   "source": [
    "def printmd(string):\n",
    "    display(Markdown(string))\n",
    "\n",
    "\n",
    "def read_ipynb(filename):\n",
    "    fn = pkg_resources.resource_filename(\"RepoTemp.templates\", filename)\n",
    "\n",
    "    with open(fn, \"r\") as f:\n",
    "        return json.load(f)"
   ]
  },
  {
   "cell_type": "code",
   "execution_count": null,
   "id": "fcdac30a-fc45-4b07-ae15-c98739529fdb",
   "metadata": {
    "tags": [
     "raises-exception",
     "hide"
    ]
   },
   "outputs": [],
   "source": [
    "# Read master metadata from YAML file\n",
    "md_file = proj_name + \"_master_md.yaml\"\n",
    "\n",
    "with open(md_file, \"r\") as f:\n",
    "    md = yaml.load(f, Loader=yaml.FullLoader)\n",
    "\n",
    "printmd(f\"Project name: {proj_name}\")\n",
    "printmd(f\"Processed with Ot2Rec on {datetime.today().strftime('%Y-%m-%d %H:%M:%S')}\")\n",
    "printmd(f\"This version of Ot2Rec report: {version('ot2rec_report')}\")"
   ]
  },
  {
   "attachments": {},
   "cell_type": "markdown",
   "id": "2f0a97b1",
   "metadata": {},
   "source": [
    "## Notes"
   ]
  },
  {
   "cell_type": "code",
   "execution_count": null,
   "id": "83dc0d0a",
   "metadata": {},
   "outputs": [],
   "source": [
    "printmd(notes)"
   ]
  }
 ],
 "metadata": {
  "celltoolbar": "Tags",
  "kernelspec": {
   "display_name": "Python 3.8.10 64-bit",
   "language": "python",
   "name": "python3"
  },
  "language_info": {
   "codemirror_mode": {
    "name": "ipython",
    "version": 3
   },
   "file_extension": ".py",
   "mimetype": "text/x-python",
   "name": "python",
   "nbconvert_exporter": "python",
   "pygments_lexer": "ipython3",
   "version": "3.10.9"
  },
  "vscode": {
   "interpreter": {
    "hash": "e7370f93d1d0cde622a1f8e1c04877d8463912d04d973331ad4851f04de6915a"
   }
  }
 },
 "nbformat": 4,
 "nbformat_minor": 5
}
