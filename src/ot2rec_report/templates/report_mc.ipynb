{
 "cells": [
  {
   "cell_type": "markdown",
   "id": "c7f3b12f-45eb-4711-a1f2-2b0b6e126eca",
   "metadata": {
    "slideshow": {
     "slide_type": "slide"
    }
   },
   "source": [
    "## Motion correction\n",
    "\n",
    "Motion correction has been performed using MotionCor2.\n",
    "\n",
    "Please cite:\n",
    "\n",
    "1. Zheng, S., Palovcak, E., Armache, JP. et al. MotionCor2: anisotropic correction of beam-induced motion for improved cryo-electron microscopy. *Nat Methods* **14**, 331–332 (2017)."
   ]
  },
  {
   "cell_type": "code",
   "execution_count": null,
   "id": "f4e9036d",
   "metadata": {
    "tags": [
     "hide"
    ]
   },
   "outputs": [],
   "source": [
    "def read_patch_frame_into_df(patch_frame_fname):\n",
    "    \"\"\"Read a single patch log file\"\"\"\n",
    "    # Read in log file\n",
    "    patch_frame_df = pd.read_table(\n",
    "        patch_frame_fname,\n",
    "        names=[\"Frame\", \"patch_x\", \"patch_y\", \"x_shift\", \"y_shift\"],\n",
    "        comment=\"#\",\n",
    "        sep=\" \",\n",
    "        skipinitialspace=True,\n",
    "    )\n",
    "\n",
    "    # Assign unique index to each patch\n",
    "    patch_idx = []\n",
    "    for frame in set(patch_frame_df.Frame):\n",
    "        for i in range(len(patch_frame_df[patch_frame_df.Frame == frame])):\n",
    "            patch_idx.append(i)\n",
    "\n",
    "    patch_frame_df[\"patch_idx\"] = patch_idx\n",
    "\n",
    "    return patch_frame_df\n",
    "\n",
    "\n",
    "def get_ts_log_df(tilts_dir):\n",
    "    \"\"\"Get a df of the shifts from the patch log files\"\"\"\n",
    "    tilts_list = []\n",
    "    for f in os.listdir(tilts_dir):\n",
    "        if f.endswith(\"Patch-Frame.log\"):\n",
    "            ta = f.split(\"_\")[-1].split(\".mrc\")[0]\n",
    "            ts = f.split(\"_\")[1]\n",
    "            df = read_patch_frame_into_df(f\"{tilts_dir}/{f}\")\n",
    "            df = df.assign(TiltSeries=int(ts))\n",
    "            df = df.assign(TiltAngle=float(ta))\n",
    "            df = df.assign(EuclideanShift=(df.x_shift**2 + df.y_shift**2) ** 0.5)\n",
    "            tilts_list.append(df)\n",
    "        else:\n",
    "            pass\n",
    "\n",
    "    ts_df = pd.concat(tilts_list)\n",
    "    return ts_df\n",
    "\n",
    "\n",
    "def get_tilts_dir():\n",
    "    \"\"\"Get the directory where the patch log files are kept\"\"\"\n",
    "    try:\n",
    "        mc2_yaml = f\"{os.getcwd()}/{proj_name}_mc2.yaml\"\n",
    "    except FileNotFoundError:\n",
    "        print(f\"{proj_name}_mc2.yaml not found.\")\n",
    "\n",
    "    with open(mc2_yaml, \"r\") as f:\n",
    "        output = yaml.load(f.read(), Loader=yaml.FullLoader)\n",
    "        tilts_dir = output[\"System\"][\"output_path\"]\n",
    "\n",
    "    return tilts_dir"
   ]
  },
  {
   "cell_type": "markdown",
   "id": "ed42ddec",
   "metadata": {},
   "source": [
    "### Summary of shifts for each tilt series"
   ]
  },
  {
   "cell_type": "code",
   "execution_count": null,
   "id": "b75a73de",
   "metadata": {
    "slideshow": {
     "slide_type": "subslide"
    },
    "tags": [
     "raises-exception",
     "hide"
    ]
   },
   "outputs": [],
   "source": [
    "ts_df = get_ts_log_df(get_tilts_dir())\n",
    "# pd.set_option(\"display.max_rows\", None)\n",
    "display(\n",
    "    ts_df.groupby(\"TiltSeries\")[\"EuclideanShift\"].describe()[\n",
    "        [\"mean\", \"std\", \"25%\", \"50%\", \"75%\"]\n",
    "    ]\n",
    ")"
   ]
  },
  {
   "cell_type": "code",
   "execution_count": null,
   "id": "3ee359a4",
   "metadata": {
    "slideshow": {
     "slide_type": "subslide"
    },
    "tags": [
     "raises-exception",
     "hide"
    ]
   },
   "outputs": [],
   "source": [
    "plt.figure(figsize=(15, 5))\n",
    "sns.barplot(\n",
    "    x=\"TiltSeries\",\n",
    "    y=\"EuclideanShift\",\n",
    "    data=ts_df,\n",
    "    errorbar=\"sd\",\n",
    "    color=\"cornflowerblue\",\n",
    ")\n",
    "plt.gca().set_ylim(bottom=0)\n",
    "plt.ylabel(\"Euclidean Shift (px)\")\n",
    "plt.tight_layout()\n",
    "plt.title(\"Euclidean Shift Means +/- Standard Deviation\")"
   ]
  }
 ],
 "metadata": {
  "kernelspec": {
   "display_name": "Python 3 (ipykernel)",
   "language": "python",
   "name": "python3"
  },
  "language_info": {
   "codemirror_mode": {
    "name": "ipython",
    "version": 3
   },
   "file_extension": ".py",
   "mimetype": "text/x-python",
   "name": "python",
   "nbconvert_exporter": "python",
   "pygments_lexer": "ipython3",
   "version": "3.8.13"
  },
  "vscode": {
   "interpreter": {
    "hash": "a924c2a426d7d6d6ce3d626a5e3a7a2287a067c2124b0bdfb6641928f2c3ed0d"
   }
  }
 },
 "nbformat": 4,
 "nbformat_minor": 5
}
