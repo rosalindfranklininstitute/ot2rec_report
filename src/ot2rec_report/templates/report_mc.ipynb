{
 "cells": [
  {
   "cell_type": "code",
   "execution_count": null,
   "id": "acaedf63-f3d2-4d15-983a-6d36d5e2220b",
   "metadata": {},
   "outputs": [],
   "source": [
    "from IPython.display import Markdown, display"
   ]
  },
  {
   "cell_type": "code",
   "execution_count": null,
   "id": "7719196b-a9be-4687-9e98-44ef29ce76e3",
   "metadata": {},
   "outputs": [],
   "source": [
    "def printmd(string):\n",
    "    display(Markdown(string))"
   ]
  },
  {
   "cell_type": "markdown",
   "id": "c7f3b12f-45eb-4711-a1f2-2b0b6e126eca",
   "metadata": {},
   "source": [
    "## Motion correction"
   ]
  },
  {
   "cell_type": "code",
   "execution_count": null,
   "id": "dfc550c2-37dd-401e-84b0-bfbd6f9f0705",
   "metadata": {},
   "outputs": [],
   "source": [
    "print(\"Motion correction has been performed using MotionCor2.\\n\")\n",
    "\n",
    "print(\"Please cite:\")\n",
    "printmd(\"1. Zheng, S., Palovcak, E., Armache, JP. et al. \"\n",
    "        \"MotionCor2: anisotropic correction of beam-induced motion for improved cryo-electron microscopy. \"\n",
    "        \"*Nat Methods* **14**, 331–332 (2017).\")"
   ]
  },
  {
   "cell_type": "markdown",
   "id": "f713864b-060f-4fcd-839d-afb3c47189ef",
   "metadata": {},
   "source": []
  }
 ],
 "metadata": {
  "kernelspec": {
   "display_name": "Python 3 (ipykernel)",
   "language": "python",
   "name": "python3"
  },
  "language_info": {
   "codemirror_mode": {
    "name": "ipython",
    "version": 3
   },
   "file_extension": ".py",
   "mimetype": "text/x-python",
   "name": "python",
   "nbconvert_exporter": "python",
   "pygments_lexer": "ipython3",
   "version": "3.8.13"
  }
 },
 "nbformat": 4,
 "nbformat_minor": 5
}
