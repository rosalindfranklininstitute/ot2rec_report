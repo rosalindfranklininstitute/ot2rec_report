{
 "cells": [
  {
   "attachments": {},
   "cell_type": "markdown",
   "metadata": {},
   "source": [
    "## Excluding bad tilts\n",
    "\n",
    "Automatic bad tilt exclusion in Ot2Rec removes tilts if the mean grey value of a tilt is outside of the minimum and maximum accepted percentiles of the overall tilt series grey values.\n",
    "\n",
    "Here, the following parameters were applied:"
   ]
  },
  {
   "cell_type": "code",
   "execution_count": 1,
   "metadata": {
    "tags": [
     "raises_exception",
     "hide"
    ]
   },
   "outputs": [
    {
     "ename": "NameError",
     "evalue": "name 'proj_name' is not defined",
     "output_type": "error",
     "traceback": [
      "\u001b[0;31m---------------------------------------------------------------------------\u001b[0m",
      "\u001b[0;31mNameError\u001b[0m                                 Traceback (most recent call last)",
      "Cell \u001b[0;32mIn[1], line 1\u001b[0m\n\u001b[0;32m----> 1\u001b[0m ebt_config_yaml \u001b[39m=\u001b[39m \u001b[39mf\u001b[39m\u001b[39m\"\u001b[39m\u001b[39m{\u001b[39;00mproj_name\u001b[39m}\u001b[39;00m\u001b[39m_exclude_bad_tilts.yaml\u001b[39m\u001b[39m\"\u001b[39m\n\u001b[1;32m      3\u001b[0m \u001b[39mif\u001b[39;00m os\u001b[39m.\u001b[39mpath\u001b[39m.\u001b[39misfile(ebt_config_yaml) \u001b[39mis\u001b[39;00m \u001b[39mFalse\u001b[39;00m:\n\u001b[1;32m      4\u001b[0m     \u001b[39mraise\u001b[39;00m \u001b[39mIOError\u001b[39;00m(\u001b[39mf\u001b[39m\u001b[39m\"\u001b[39m\u001b[39mExclude bad tilts yaml file \u001b[39m\u001b[39m{\u001b[39;00mebt_config_yaml\u001b[39m}\u001b[39;00m\u001b[39m not found.\u001b[39m\u001b[39m\"\u001b[39m)\n",
      "\u001b[0;31mNameError\u001b[0m: name 'proj_name' is not defined"
     ]
    }
   ],
   "source": [
    "ebt_config_yaml = f\"{proj_name}_exclude_bad_tilts.yaml\"\n",
    "\n",
    "if os.path.isfile(ebt_config_yaml) is False:\n",
    "    raise FileNotFoundError(f\"Exclude bad tilts yaml file {ebt_config_yaml} not found.\")\n",
    "\n",
    "else:\n",
    "    with open(ebt_config_yaml, \"r\") as f:\n",
    "        ebt_config = yaml.load(f, Loader=yaml.FullLoader)\n",
    "\n",
    "    print(\n",
    "        f\"Min accepted grey value percentile: {ebt_config['EBT_setup']['min_percentile']}\"\n",
    "    )\n",
    "    print(\n",
    "        f\"Max accepted grey value percentile: {ebt_config['EBT_setup']['max_percentile']}\"\n",
    "    )"
   ]
  },
  {
   "attachments": {},
   "cell_type": "markdown",
   "metadata": {},
   "source": [
    "The number of tilts excluded for each tilt series are"
   ]
  },
  {
   "cell_type": "code",
   "execution_count": null,
   "metadata": {
    "tags": [
     "raises_exception",
     "hide"
    ]
   },
   "outputs": [],
   "source": [
    "ebt_mdout_yaml = f\"{proj_name}_exclude_bad_tilts_mdout.yaml\"\n",
    "\n",
    "if os.path.isfile(ebt_mdout_yaml) is False:\n",
    "    raise FileNotFoundError(\n",
    "        f\"Exclude bad tilts mdout yaml file {ebt_mdout_yaml} not found. \"\n",
    "        \"Was `o2r.excludebadtilts.run` called?\"\n",
    "    )\n",
    "\n",
    "else:\n",
    "    with open(ebt_mdout_yaml, \"r\") as f:\n",
    "        ebt_mdout = yaml.load(f, Loader=yaml.FullLoader)\n",
    "\n",
    "    excluded_df = pd.DataFrame.from_dict(ebt_mdout)\n",
    "\n",
    "    # Add number of excluded tilts for each TS to the DF\n",
    "    counts = []\n",
    "    for ts in excluded_df.index:\n",
    "        counts.append(len(excluded_df.Excluded_Tilt_Index[ts]))\n",
    "\n",
    "    excluded_df[\"Number_of_Excluded_Tilts\"] = counts\n",
    "\n",
    "    excluded_df"
   ]
  },
  {
   "cell_type": "code",
   "execution_count": null,
   "metadata": {
    "tags": [
     "raises_exception",
     "hide"
    ]
   },
   "outputs": [],
   "source": [
    "if os.path.isfile(ebt_mdout_yaml) is True:\n",
    "    plt.figure(figsize=(10, 5))\n",
    "    ax = sns.barplot(\n",
    "        data=excluded_df,\n",
    "        x=\"process_list\",\n",
    "        y=\"Number_of_Excluded_Tilts\",\n",
    "        color=\"cornflowerblue\",\n",
    "    )\n",
    "\n",
    "    plt.xlabel(\"Tilt Series\")\n",
    "\n",
    "    plt.gca().set_ylim(bottom=0)"
   ]
  }
 ],
 "metadata": {
  "kernelspec": {
   "display_name": "Python 3",
   "language": "python",
   "name": "python3"
  },
  "language_info": {
   "codemirror_mode": {
    "name": "ipython",
    "version": 3
   },
   "file_extension": ".py",
   "mimetype": "text/x-python",
   "name": "python",
   "nbconvert_exporter": "python",
   "pygments_lexer": "ipython3",
   "version": "3.8.10"
  },
  "orig_nbformat": 4,
  "vscode": {
   "interpreter": {
    "hash": "916dbcbb3f70747c44a77c7bcd40155683ae19c65e1c03b4aa3499c5328201f1"
   }
  }
 },
 "nbformat": 4,
 "nbformat_minor": 2
}
