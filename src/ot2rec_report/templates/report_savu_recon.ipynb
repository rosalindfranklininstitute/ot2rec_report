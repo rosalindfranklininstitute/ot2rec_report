{
 "cells": [
  {
   "cell_type": "code",
   "execution_count": 1,
   "id": "acaedf63-f3d2-4d15-983a-6d36d5e2220b",
   "metadata": {},
   "outputs": [],
   "source": [
    "from IPython.display import Markdown, display"
   ]
  },
  {
   "cell_type": "code",
   "execution_count": 2,
   "id": "7719196b-a9be-4687-9e98-44ef29ce76e3",
   "metadata": {},
   "outputs": [],
   "source": [
    "def printmd(string):\n",
    "    display(Markdown(string))"
   ]
  },
  {
   "cell_type": "markdown",
   "id": "c7f3b12f-45eb-4711-a1f2-2b0b6e126eca",
   "metadata": {},
   "source": [
    "## Tomographic Reconstruction (Savu)"
   ]
  },
  {
   "cell_type": "code",
   "execution_count": 4,
   "id": "5e7a43c6-ecd5-4a2c-82b8-c573eebda24a",
   "metadata": {},
   "outputs": [
    {
     "name": "stdout",
     "output_type": "stream",
     "text": [
      "Tomographic reconstruction has been performed using Savu.\n",
      "\n",
      "Please cite:\n"
     ]
    },
    {
     "data": {
      "text/markdown": [
       "1. Kazantsev, Daniil and Wadeson, Nicola and Basham, Mark. High Performance Savu Software for Fast 3D Model-Based Iterative Reconstruction of Large Data at Diamond Light Source, Available at SSRN: <https://ssrn.com/abstract=3955840> or <http://dx.doi.org/10.2139/ssrn.3955840>\n"
      ],
      "text/plain": [
       "<IPython.core.display.Markdown object>"
      ]
     },
     "metadata": {},
     "output_type": "display_data"
    }
   ],
   "source": [
    "print(\"Tomographic reconstruction has been performed using Savu.\\n\")\n",
    "\n",
    "print(\"Please cite:\")\n",
    "printmd(\"1. Kazantsev, Daniil and Wadeson, Nicola and Basham, Mark. \"\n",
    "        \"High Performance Savu Software for Fast 3D Model-Based Iterative Reconstruction of Large Data at Diamond Light Source, \"\n",
    "        \"Available at SSRN: <https://ssrn.com/abstract=3955840> or <http://dx.doi.org/10.2139/ssrn.3955840>\\n\"\n",
    ")"
   ]
  }
 ],
 "metadata": {
  "kernelspec": {
   "display_name": "Python 3 (ipykernel)",
   "language": "python",
   "name": "python3"
  },
  "language_info": {
   "codemirror_mode": {
    "name": "ipython",
    "version": 3
   },
   "file_extension": ".py",
   "mimetype": "text/x-python",
   "name": "python",
   "nbconvert_exporter": "python",
   "pygments_lexer": "ipython3",
   "version": "3.8.13"
  }
 },
 "nbformat": 4,
 "nbformat_minor": 5
}
