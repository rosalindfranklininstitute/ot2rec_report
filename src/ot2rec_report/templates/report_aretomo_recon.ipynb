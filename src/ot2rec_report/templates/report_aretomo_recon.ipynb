{
 "cells": [
  {
   "cell_type": "markdown",
   "id": "dc30f8f7-6f34-420d-8ef8-d11c56698a5c",
   "metadata": {
    "slideshow": {
     "slide_type": "slide"
    }
   },
   "source": [
    "### Tomographic Reconstruction (AreTomo)"
   ]
  },
  {
   "cell_type": "code",
   "execution_count": null,
   "id": "e7a30837",
   "metadata": {
    "slideshow": {
     "slide_type": "subslide"
    },
    "tags": [
     "raises-exception",
     "hide"
    ]
   },
   "outputs": [],
   "source": [
    "def get_aretomo_params():\n",
    "    \"\"\"Print out relevant AreTomo setup parameters\"\"\"\n",
    "    aretomo_yaml = f\"{os.getcwd()}/{proj_name}_aretomo_recon.yaml\"\n",
    "    if os.path.isfile(aretomo_yaml) is False:\n",
    "        aretomo_yaml = f\"{os.getcwd()}/{proj_name}_aretomo_align-recon.yaml\"\n",
    "\n",
    "    try:\n",
    "        with open(aretomo_yaml, \"r\") as f:\n",
    "            aretomo_params = yaml.load(f.read(), Loader=yaml.FullLoader)\n",
    "            printmd(f\"Vol Z = {aretomo_params['AreTomo_recon']['volz']}\")\n",
    "            printmd(\n",
    "                f\"Sample thickness = {aretomo_params['AreTomo_recon']['sample_thickness']}\"\n",
    "            )\n",
    "            printmd(f\"Pixel size = {aretomo_params['AreTomo_recon']['pixel_size']}\")\n",
    "            printmd(\n",
    "                f\"Reconstruction algorithm = {aretomo_params['AreTomo_recon']['recon_algo']}\"\n",
    "            )\n",
    "    except FileNotFoundError:\n",
    "        print(f\"{aretomo_yaml} not found, cannot retrieve AreTomo setup parameters\")\n",
    "\n",
    "\n",
    "get_aretomo_params()"
   ]
  },
  {
   "cell_type": "code",
   "execution_count": null,
   "id": "aec1bde9",
   "metadata": {
    "tags": [
     "hide"
    ]
   },
   "outputs": [],
   "source": [
    "def get_aretomo_tomofilenames():\n",
    "    \"\"\"Get list of tomograms from AreTomo\"\"\"\n",
    "    aretomo_yaml = f\"{os.getcwd()}/{proj_name}_aretomo_recon.yaml\"\n",
    "    if os.path.isfile(aretomo_yaml) is False:\n",
    "        aretomo_yaml = f\"{os.getcwd()}/{proj_name}_aretomo_align-recon.yaml\"\n",
    "\n",
    "    try:\n",
    "        with open(aretomo_yaml, \"r\") as f:\n",
    "            aretomo_params = yaml.load(f.read(), Loader=yaml.FullLoader)\n",
    "            tomogram_filenames = aretomo_params[\"AreTomo_setup\"][\"output_mrc\"]\n",
    "            return tomogram_filenames\n",
    "    except FileNotFoundError:\n",
    "        print(f\"{aretomo_yaml} not found, cannot retrieve tomogram filenames\")\n",
    "\n",
    "\n",
    "def get_central_slices(img_data):\n",
    "    # Find central slices\n",
    "    z_central = int(img_data.shape[0] / 2)\n",
    "    y_central = int(img_data.shape[1] / 2)\n",
    "    x_central = int(img_data.shape[2] / 2)\n",
    "\n",
    "    # xy, yz, xz image data\n",
    "    xy_data = img_data[z_central, :, :]\n",
    "    yz_data = img_data[:, y_central, :]\n",
    "    xz_data = img_data[:, :, x_central]\n",
    "\n",
    "    return [xy_data, yz_data, xz_data]\n",
    "\n",
    "\n",
    "def show_tomogram(tomo_fname):\n",
    "    \"\"\"tomo_fname can be 3-D .mrc, 3-D .tiff, or stack of 2-D tiffs\"\"\"\n",
    "\n",
    "    # Import image data\n",
    "    if tomo_fname.endswith(\".mrc\"):\n",
    "        with mrcfile.open(tomo_fname) as mrc:\n",
    "            img_data = mrc.data\n",
    "\n",
    "    elif os.path.isdir(tomo_fname):\n",
    "        volume = []\n",
    "        for xy_slice in os.listdir(tomo_fname):\n",
    "            volume.append(tifffile.imread(f\"{tomo_fname}/{xy_slice}\").data)\n",
    "        img_data = np.stack(volume)\n",
    "\n",
    "    elif tomo_fname.endswith(\".tif\"):\n",
    "        img_data = tifffile.imread(tomo_fname)\n",
    "\n",
    "    else:\n",
    "        raise ValueError(\n",
    "            \"Tomogram cannot be read. Please use a 3D tiff, mrc or stack of 2D Tiffs\"\n",
    "        )\n",
    "\n",
    "    yz_data, xy_data, xz_data = get_central_slices(img_data)\n",
    "    # Show central slices in xy, yz, xz\n",
    "    plt.figure(figsize=(10, 5))\n",
    "    plt.suptitle(os.path.basename(tomo_fname))\n",
    "    titles = [\"x-y\", \"y-z\", \"x-z\"]\n",
    "\n",
    "    for i, data in enumerate([xy_data, yz_data, xz_data]):\n",
    "        plt.subplot(1, 3, i + 1)\n",
    "        plt.imshow(\n",
    "            data,\n",
    "            cmap=\"Greys_r\",\n",
    "            vmin=np.percentile(data.flatten(), 10),\n",
    "            vmax=np.percentile(data.flatten(), 90),\n",
    "        )\n",
    "        plt.title(titles[i])\n",
    "\n",
    "    plt.tight_layout()"
   ]
  },
  {
   "cell_type": "code",
   "execution_count": null,
   "id": "aa8e6514",
   "metadata": {
    "slideshow": {
     "slide_type": "subslide"
    },
    "tags": [
     "raises-exception",
     "hide"
    ]
   },
   "outputs": [],
   "source": [
    "# Show thumbnails of the tomograms\n",
    "tomogram_filenames = get_aretomo_tomofilenames()\n",
    "for tomogram in tomogram_filenames:\n",
    "    show_tomogram(tomogram)"
   ]
  }
 ],
 "metadata": {
  "celltoolbar": "Tags",
  "kernelspec": {
   "display_name": "Python 3 (ipykernel)",
   "language": "python",
   "name": "python3"
  },
  "language_info": {
   "codemirror_mode": {
    "name": "ipython",
    "version": 3
   },
   "file_extension": ".py",
   "mimetype": "text/x-python",
   "name": "python",
   "nbconvert_exporter": "python",
   "pygments_lexer": "ipython3",
   "version": "3.8.10"
  },
  "vscode": {
   "interpreter": {
    "hash": "e7370f93d1d0cde622a1f8e1c04877d8463912d04d973331ad4851f04de6915a"
   }
  }
 },
 "nbformat": 4,
 "nbformat_minor": 5
}
